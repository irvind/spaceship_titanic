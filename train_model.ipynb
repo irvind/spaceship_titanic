{
 "cells": [
  {
   "cell_type": "code",
   "execution_count": 1,
   "id": "d1cb0ec3-8b8b-4f61-b3a4-bd16e9a775ca",
   "metadata": {
    "tags": []
   },
   "outputs": [
    {
     "name": "stderr",
     "output_type": "stream",
     "text": [
      "/home/irvind/dev/spaceship_titanic/df_tools.py:102: SettingWithCopyWarning: \n",
      "A value is trying to be set on a copy of a slice from a DataFrame.\n",
      "Try using .loc[row_indexer,col_indexer] = value instead\n",
      "\n",
      "See the caveats in the documentation: https://pandas.pydata.org/pandas-docs/stable/user_guide/indexing.html#returning-a-view-versus-a-copy\n",
      "  df2['CryoSleep'] = df2['CryoSleep'].astype(int)\n"
     ]
    }
   ],
   "source": [
    "import pandas as pd\n",
    "import df_tools\n",
    "\n",
    "df = pd.read_csv('data/train.csv')\n",
    "X, y = df_tools.prepare_dataset(df)"
   ]
  },
  {
   "cell_type": "code",
   "execution_count": 2,
   "id": "47675aa1-4774-48f9-b223-583880b0d363",
   "metadata": {},
   "outputs": [],
   "source": [
    "from sklearn.model_selection import train_test_split\n",
    "X_train, X_test, y_train, y_test = train_test_split(\n",
    "    X, y, test_size=0.25, random_state=1, stratify=y\n",
    ")"
   ]
  },
  {
   "cell_type": "code",
   "execution_count": 3,
   "id": "08f60e72-4f42-4aae-ad82-f612b105bb19",
   "metadata": {},
   "outputs": [
    {
     "name": "stdout",
     "output_type": "stream",
     "text": [
      "Log reg train score: 0.723423838011965\n",
      "Log reg test score: 0.7364305427782889\n"
     ]
    }
   ],
   "source": [
    "from sklearn.linear_model import LogisticRegression\n",
    "from sklearn.preprocessing import StandardScaler\n",
    "from sklearn.pipeline import make_pipeline\n",
    "\n",
    "log_reg_pipe = make_pipeline(\n",
    "    StandardScaler(),\n",
    "    LogisticRegression(C=0.5, solver='lbfgs', random_state=1)\n",
    ")\n",
    "log_reg_pipe.fit(X_train, y_train)\n",
    "\n",
    "print('Log reg train score:', log_reg_pipe.score(X_train, y_train))\n",
    "print('Log reg test score:', log_reg_pipe.score(X_test, y_test))"
   ]
  },
  {
   "cell_type": "code",
   "execution_count": 4,
   "id": "bfc6efc2-e446-48bb-8ec3-cb23cfce4067",
   "metadata": {},
   "outputs": [
    {
     "name": "stdout",
     "output_type": "stream",
     "text": [
      "Grid search log reg best_score: 0.7226612196432105\n",
      "Grid search log reg best_params: {'logisticregression__C': 0.5}\n"
     ]
    }
   ],
   "source": [
    "from sklearn.model_selection import GridSearchCV\n",
    "\n",
    "param_range = [0.0001, 0.001, 0.01, 0.1, 0.5, 1.0, 5.0, 10.0, 100.0, 1000.0]\n",
    "param_grid = [{'logisticregression__C': param_range}]\n",
    "grid_search = GridSearchCV(\n",
    "    estimator=log_reg_pipe,\n",
    "    param_grid=param_grid,\n",
    "    scoring='accuracy',\n",
    "    cv=10,\n",
    "    refit=True,\n",
    "    n_jobs=-1\n",
    ")\n",
    "\n",
    "grid_search.fit(X_train, y_train)\n",
    "print('Grid search log reg best_score:', grid_search.best_score_)\n",
    "print('Grid search log reg best_params:', grid_search.best_params_)"
   ]
  },
  {
   "cell_type": "code",
   "execution_count": 5,
   "id": "88a5a6ee-b988-4452-b3c1-35a605591e4b",
   "metadata": {},
   "outputs": [
    {
     "name": "stdout",
     "output_type": "stream",
     "text": [
      "RandomForest train score: 0.936953520478601\n",
      "RandomForest test score: 0.7065317387304508\n",
      "Column importances:\n",
      "[('Age', 0.35880337865699186),\n",
      " ('VIP', 0.20297120002550653),\n",
      " ('CryoSleep', 0.18166280929986622),\n",
      " ('RoomService', 0.07968366393670168),\n",
      " ('Deck_T', 0.02612687543299052),\n",
      " ('Dest_PSO', 0.023259604198538897),\n",
      " ('HomePlanet_Europa', 0.02252613940564539),\n",
      " ('GroupSize', 0.019770107801728585),\n",
      " ('Deck_F', 0.018896458521944708),\n",
      " ('Deck_E', 0.01694595554342488),\n",
      " ('Deck_D', 0.014785696269549932),\n",
      " ('HomePlanet_Mars', 0.010719249258873378),\n",
      " ('Dest_TRAPPIST', 0.008229117663043859),\n",
      " ('Deck_B', 0.008067629416050541),\n",
      " ('Deck_C', 0.007343686910355404),\n",
      " ('Deck_G', 0.00020842765878762847)]\n"
     ]
    }
   ],
   "source": [
    "from sklearn.ensemble import RandomForestClassifier\n",
    "from pprint import pprint\n",
    "forest = RandomForestClassifier(n_estimators=100,\n",
    "                                random_state=1)\n",
    "forest.fit(X_train, y_train)\n",
    "\n",
    "print('RandomForest train score:', forest.score(X_train, y_train))\n",
    "print('RandomForest test score:', forest.score(X_test, y_test))\n",
    "\n",
    "importances = forest.feature_importances_\n",
    "# print(importances)\n",
    "\n",
    "final_columns = ['CryoSleep', 'Age', 'VIP', 'RoomService', 'GroupSize', 'HomePlanet_Europa', 'HomePlanet_Mars',\n",
    "                 'Dest_PSO', 'Dest_TRAPPIST', 'Deck_B', 'Deck_C', 'Deck_D', 'Deck_E', 'Deck_F', 'Deck_G',\n",
    "                 'Deck_T', 'Side_S']\n",
    "\n",
    "items = zip(final_columns, importances)\n",
    "print('Column importances:')\n",
    "pprint(sorted(items, key=lambda v: v[1], reverse=True))"
   ]
  },
  {
   "cell_type": "code",
   "execution_count": 6,
   "id": "13ddf95e-f1eb-40eb-898a-d98b4b085baf",
   "metadata": {
    "tags": []
   },
   "outputs": [
    {
     "name": "stdout",
     "output_type": "stream",
     "text": [
      "Grid search random forest best_score: 0.7065498572276724\n",
      "Grid search random forest best_params: {'n_estimators': 100}\n"
     ]
    }
   ],
   "source": [
    "param_grid = [{'n_estimators': [100, 200, 300, 400, 500, 600]}]\n",
    "grid_search = GridSearchCV(\n",
    "    estimator=forest,\n",
    "    param_grid=param_grid,\n",
    "    scoring='accuracy',\n",
    "    cv=10,\n",
    "    refit=True,\n",
    "    n_jobs=-1\n",
    ")\n",
    "\n",
    "grid_search.fit(X_train, y_train)\n",
    "print('Grid search random forest best_score:', grid_search.best_score_)\n",
    "print('Grid search random forest best_params:', grid_search.best_params_)"
   ]
  },
  {
   "cell_type": "code",
   "execution_count": 7,
   "id": "c2984bd7-2a60-4c6a-90e6-2bc090ba13b6",
   "metadata": {
    "tags": []
   },
   "outputs": [
    {
     "name": "stderr",
     "output_type": "stream",
     "text": [
      "/home/irvind/dev/spaceship_titanic/df_tools.py:102: SettingWithCopyWarning: \n",
      "A value is trying to be set on a copy of a slice from a DataFrame.\n",
      "Try using .loc[row_indexer,col_indexer] = value instead\n",
      "\n",
      "See the caveats in the documentation: https://pandas.pydata.org/pandas-docs/stable/user_guide/indexing.html#returning-a-view-versus-a-copy\n",
      "  df2['CryoSleep'] = df2['CryoSleep'].astype(int)\n"
     ]
    }
   ],
   "source": [
    "df_test = pd.read_csv('data/test.csv')\n",
    "# grid_search.predict\n",
    "\n",
    "X_submit = df_tools.prepare_dataset(df_test, with_y=False)\n",
    "y_submit = grid_search.predict(X_submit)\n",
    "y_submit\n",
    "\n",
    "answer_ser = pd.Series(y_submit, dtype='int32').astype(bool)\n",
    "df_submit = pd.read_csv('data/sample_submission.csv')\n",
    "df_submit['Transported'] = answer_ser\n",
    "\n",
    "# df_submit.to_csv('answer.csv', index=False)\n",
    "# df_submit"
   ]
  }
 ],
 "metadata": {
  "kernelspec": {
   "display_name": "Python 3 (ipykernel)",
   "language": "python",
   "name": "python3"
  },
  "language_info": {
   "codemirror_mode": {
    "name": "ipython",
    "version": 3
   },
   "file_extension": ".py",
   "mimetype": "text/x-python",
   "name": "python",
   "nbconvert_exporter": "python",
   "pygments_lexer": "ipython3",
   "version": "3.10.9"
  }
 },
 "nbformat": 4,
 "nbformat_minor": 5
}
