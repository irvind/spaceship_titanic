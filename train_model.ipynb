{
 "cells": [
  {
   "cell_type": "code",
   "execution_count": 1,
   "id": "d1cb0ec3-8b8b-4f61-b3a4-bd16e9a775ca",
   "metadata": {
    "tags": []
   },
   "outputs": [
    {
     "name": "stderr",
     "output_type": "stream",
     "text": [
      "/home/irvind/dev/spaceship_titanic/df_tools.py:103: SettingWithCopyWarning: \n",
      "A value is trying to be set on a copy of a slice from a DataFrame.\n",
      "Try using .loc[row_indexer,col_indexer] = value instead\n",
      "\n",
      "See the caveats in the documentation: https://pandas.pydata.org/pandas-docs/stable/user_guide/indexing.html#returning-a-view-versus-a-copy\n",
      "  df2[col] = df2[col].astype(int)\n"
     ]
    },
    {
     "data": {
      "text/plain": [
       "array([[ 0., 39.,  0., ...,  0.,  0.,  0.],\n",
       "       [ 0., 24.,  0., ...,  0.,  0.,  1.],\n",
       "       [ 0., 58.,  1., ...,  0.,  0.,  1.],\n",
       "       ...,\n",
       "       [ 0., 26.,  0., ...,  1.,  0.,  1.],\n",
       "       [ 0., 32.,  0., ...,  0.,  0.,  1.],\n",
       "       [ 0., 44.,  0., ...,  0.,  0.,  1.]])"
      ]
     },
     "execution_count": 1,
     "metadata": {},
     "output_type": "execute_result"
    }
   ],
   "source": [
    "import pandas as pd\n",
    "import df_tools\n",
    "\n",
    "df = pd.read_csv('data/train.csv')\n",
    "X, y = df_tools.prepare_dataset(df)\n",
    "X"
   ]
  },
  {
   "cell_type": "code",
   "execution_count": 2,
   "id": "47675aa1-4774-48f9-b223-583880b0d363",
   "metadata": {},
   "outputs": [],
   "source": [
    "from sklearn.model_selection import train_test_split\n",
    "X_train, X_test, y_train, y_test = train_test_split(\n",
    "    X, y, test_size=0.25, random_state=1, stratify=y\n",
    ")"
   ]
  },
  {
   "cell_type": "code",
   "execution_count": 3,
   "id": "08f60e72-4f42-4aae-ad82-f612b105bb19",
   "metadata": {},
   "outputs": [
    {
     "name": "stdout",
     "output_type": "stream",
     "text": [
      "Log reg train score: 0.7238840312931432\n",
      "Log reg test score: 0.7332106715731371\n"
     ]
    }
   ],
   "source": [
    "from sklearn.linear_model import LogisticRegression\n",
    "from sklearn.preprocessing import StandardScaler\n",
    "from sklearn.pipeline import make_pipeline\n",
    "\n",
    "log_reg_pipe = make_pipeline(\n",
    "    StandardScaler(),\n",
    "    LogisticRegression(C=10, solver='lbfgs', random_state=1)\n",
    ")\n",
    "log_reg_pipe.fit(X_train, y_train)\n",
    "\n",
    "print('Log reg train score:', log_reg_pipe.score(X_train, y_train))\n",
    "print('Log reg test score:', log_reg_pipe.score(X_test, y_test))"
   ]
  },
  {
   "cell_type": "code",
   "execution_count": 4,
   "id": "bfc6efc2-e446-48bb-8ec3-cb23cfce4067",
   "metadata": {},
   "outputs": [
    {
     "name": "stdout",
     "output_type": "stream",
     "text": [
      "best_score: 0.7203591925588759\n",
      "best_params: {'logisticregression__C': 0.1}\n"
     ]
    }
   ],
   "source": [
    "from sklearn.model_selection import GridSearchCV\n",
    "\n",
    "param_range = [0.0001, 0.001, 0.01, 0.1, 1.0, 10.0, 100.0, 1000.0]\n",
    "param_grid = [{'logisticregression__C': param_range}]\n",
    "grid_search = GridSearchCV(\n",
    "    estimator=log_reg_pipe,\n",
    "    param_grid=param_grid,\n",
    "    scoring='accuracy',\n",
    "    cv=10,\n",
    "    refit=True,\n",
    "    n_jobs=-1\n",
    ")\n",
    "\n",
    "grid_search.fit(X_train, y_train)\n",
    "print('best_score:', grid_search.best_score_)\n",
    "print('best_params:', grid_search.best_params_)"
   ]
  },
  {
   "cell_type": "code",
   "execution_count": 5,
   "id": "88a5a6ee-b988-4452-b3c1-35a605591e4b",
   "metadata": {},
   "outputs": [
    {
     "name": "stdout",
     "output_type": "stream",
     "text": [
      "RandomForest train score: 0.9375671115201718\n",
      "RandomForest test score: 0.7014719411223551\n",
      "[1.81217061e-01 3.58742970e-01 5.78309089e-03 2.01594569e-01\n",
      " 7.96608645e-02 1.88290178e-02 2.38635112e-02 1.03604426e-02\n",
      " 2.20749549e-02 8.38150387e-03 8.85427330e-03 6.62428741e-03\n",
      " 1.40033861e-02 1.59338934e-02 1.75892886e-02 2.08001916e-04\n",
      " 2.62788831e-02]\n",
      "Column importances\n",
      "[('Age', 0.3587429704499815), ('RoomService', 0.2015945692044512), ('CryoSleep', 0.18121706071173097), ('GroupSize', 0.07966086449482429), ('Side_S', 0.02627888306371346), ('HomePlanet_Mars', 0.023863511179589885), ('Dest_TRAPPIST', 0.0220749549204146), ('HomePlanet_Europa', 0.018829017823327254), ('Deck_G', 0.01758928863718537), ('Deck_F', 0.01593389335196498), ('Deck_E', 0.014003386147106767), ('Dest_PSO', 0.010360442633452201), ('Deck_C', 0.00885427329643283), ('Deck_B', 0.008381503866714905), ('Deck_D', 0.006624287410552387), ('VIP', 0.005783090892352364), ('Deck_T', 0.00020800191620504987)]\n"
     ]
    }
   ],
   "source": [
    "from sklearn.ensemble import RandomForestClassifier\n",
    "forest = RandomForestClassifier(n_estimators=500,\n",
    "                                random_state=1)\n",
    "forest.fit(X_train, y_train)\n",
    "\n",
    "print('RandomForest train score:', forest.score(X_train, y_train))\n",
    "print('RandomForest test score:', forest.score(X_test, y_test))\n",
    "\n",
    "importances = forest.feature_importances_\n",
    "print(importances)\n",
    "\n",
    "final_columns = ['CryoSleep', 'Age', 'VIP', 'RoomService', 'GroupSize', 'HomePlanet_Europa', 'HomePlanet_Mars',\n",
    "                 'Dest_PSO', 'Dest_TRAPPIST', 'Deck_B', 'Deck_C', 'Deck_D', 'Deck_E', 'Deck_F', 'Deck_G',\n",
    "                 'Deck_T', 'Side_S']\n",
    "\n",
    "items = zip(final_columns, importances)\n",
    "print('Column importances')\n",
    "print(sorted(items, key=lambda v: v[1], reverse=True))"
   ]
  },
  {
   "cell_type": "code",
   "execution_count": 6,
   "id": "c2984bd7-2a60-4c6a-90e6-2bc090ba13b6",
   "metadata": {
    "tags": []
   },
   "outputs": [
    {
     "name": "stderr",
     "output_type": "stream",
     "text": [
      "/home/irvind/dev/spaceship_titanic/df_tools.py:103: SettingWithCopyWarning: \n",
      "A value is trying to be set on a copy of a slice from a DataFrame.\n",
      "Try using .loc[row_indexer,col_indexer] = value instead\n",
      "\n",
      "See the caveats in the documentation: https://pandas.pydata.org/pandas-docs/stable/user_guide/indexing.html#returning-a-view-versus-a-copy\n",
      "  df2[col] = df2[col].astype(int)\n"
     ]
    },
    {
     "data": {
      "text/html": [
       "<div>\n",
       "<style scoped>\n",
       "    .dataframe tbody tr th:only-of-type {\n",
       "        vertical-align: middle;\n",
       "    }\n",
       "\n",
       "    .dataframe tbody tr th {\n",
       "        vertical-align: top;\n",
       "    }\n",
       "\n",
       "    .dataframe thead th {\n",
       "        text-align: right;\n",
       "    }\n",
       "</style>\n",
       "<table border=\"1\" class=\"dataframe\">\n",
       "  <thead>\n",
       "    <tr style=\"text-align: right;\">\n",
       "      <th></th>\n",
       "      <th>PassengerId</th>\n",
       "      <th>Transported</th>\n",
       "    </tr>\n",
       "  </thead>\n",
       "  <tbody>\n",
       "    <tr>\n",
       "      <th>0</th>\n",
       "      <td>0013_01</td>\n",
       "      <td>True</td>\n",
       "    </tr>\n",
       "    <tr>\n",
       "      <th>1</th>\n",
       "      <td>0018_01</td>\n",
       "      <td>False</td>\n",
       "    </tr>\n",
       "    <tr>\n",
       "      <th>2</th>\n",
       "      <td>0019_01</td>\n",
       "      <td>True</td>\n",
       "    </tr>\n",
       "    <tr>\n",
       "      <th>3</th>\n",
       "      <td>0021_01</td>\n",
       "      <td>True</td>\n",
       "    </tr>\n",
       "    <tr>\n",
       "      <th>4</th>\n",
       "      <td>0023_01</td>\n",
       "      <td>False</td>\n",
       "    </tr>\n",
       "    <tr>\n",
       "      <th>...</th>\n",
       "      <td>...</td>\n",
       "      <td>...</td>\n",
       "    </tr>\n",
       "    <tr>\n",
       "      <th>4272</th>\n",
       "      <td>9266_02</td>\n",
       "      <td>True</td>\n",
       "    </tr>\n",
       "    <tr>\n",
       "      <th>4273</th>\n",
       "      <td>9269_01</td>\n",
       "      <td>False</td>\n",
       "    </tr>\n",
       "    <tr>\n",
       "      <th>4274</th>\n",
       "      <td>9271_01</td>\n",
       "      <td>True</td>\n",
       "    </tr>\n",
       "    <tr>\n",
       "      <th>4275</th>\n",
       "      <td>9273_01</td>\n",
       "      <td>False</td>\n",
       "    </tr>\n",
       "    <tr>\n",
       "      <th>4276</th>\n",
       "      <td>9277_01</td>\n",
       "      <td>True</td>\n",
       "    </tr>\n",
       "  </tbody>\n",
       "</table>\n",
       "<p>4277 rows × 2 columns</p>\n",
       "</div>"
      ],
      "text/plain": [
       "     PassengerId  Transported\n",
       "0        0013_01         True\n",
       "1        0018_01        False\n",
       "2        0019_01         True\n",
       "3        0021_01         True\n",
       "4        0023_01        False\n",
       "...          ...          ...\n",
       "4272     9266_02         True\n",
       "4273     9269_01        False\n",
       "4274     9271_01         True\n",
       "4275     9273_01        False\n",
       "4276     9277_01         True\n",
       "\n",
       "[4277 rows x 2 columns]"
      ]
     },
     "execution_count": 6,
     "metadata": {},
     "output_type": "execute_result"
    }
   ],
   "source": [
    "df_test = pd.read_csv('data/test.csv')\n",
    "# grid_search.predict\n",
    "\n",
    "X_submit = df_tools.prepare_dataset(df_test, with_y=False)\n",
    "y_submit = grid_search.predict(X_submit)\n",
    "y_submit\n",
    "\n",
    "answer_ser = pd.Series(y_submit, dtype='int32').astype(bool)\n",
    "df_submit = pd.read_csv('data/sample_submission.csv')\n",
    "df_submit['Transported'] = answer_ser\n",
    "df_submit.to_csv('answer.csv', index=False)\n",
    "df_submit"
   ]
  }
 ],
 "metadata": {
  "kernelspec": {
   "display_name": "Python 3 (ipykernel)",
   "language": "python",
   "name": "python3"
  },
  "language_info": {
   "codemirror_mode": {
    "name": "ipython",
    "version": 3
   },
   "file_extension": ".py",
   "mimetype": "text/x-python",
   "name": "python",
   "nbconvert_exporter": "python",
   "pygments_lexer": "ipython3",
   "version": "3.10.9"
  }
 },
 "nbformat": 4,
 "nbformat_minor": 5
}
