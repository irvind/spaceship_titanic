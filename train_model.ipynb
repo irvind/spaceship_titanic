{
 "cells": [
  {
   "cell_type": "code",
   "execution_count": 1,
   "id": "d1cb0ec3-8b8b-4f61-b3a4-bd16e9a775ca",
   "metadata": {
    "tags": []
   },
   "outputs": [
    {
     "name": "stderr",
     "output_type": "stream",
     "text": [
      "/home/irvind/dev/spaceship_titanic/df_tools.py:102: SettingWithCopyWarning: \n",
      "A value is trying to be set on a copy of a slice from a DataFrame.\n",
      "Try using .loc[row_indexer,col_indexer] = value instead\n",
      "\n",
      "See the caveats in the documentation: https://pandas.pydata.org/pandas-docs/stable/user_guide/indexing.html#returning-a-view-versus-a-copy\n",
      "  df2['CryoSleep'] = df2['CryoSleep'].astype(int)\n"
     ]
    }
   ],
   "source": [
    "%load_ext autoreload\n",
    "%autoreload 2\n",
    "\n",
    "import pandas as pd\n",
    "import df_tools\n",
    "\n",
    "df = pd.read_csv('data/train.csv')\n",
    "X, y = df_tools.prepare_dataset(df)"
   ]
  },
  {
   "cell_type": "code",
   "execution_count": 2,
   "id": "47675aa1-4774-48f9-b223-583880b0d363",
   "metadata": {},
   "outputs": [],
   "source": [
    "from sklearn.model_selection import train_test_split\n",
    "X_train, X_test, y_train, y_test = train_test_split(\n",
    "    X, y, test_size=0.25, random_state=1, stratify=y\n",
    ")"
   ]
  },
  {
   "cell_type": "code",
   "execution_count": 3,
   "id": "08f60e72-4f42-4aae-ad82-f612b105bb19",
   "metadata": {},
   "outputs": [
    {
     "name": "stdout",
     "output_type": "stream",
     "text": [
      "Log reg train score: 0.723423838011965\n",
      "Log reg test score: 0.7364305427782889\n"
     ]
    }
   ],
   "source": [
    "from sklearn.linear_model import LogisticRegression\n",
    "from sklearn.preprocessing import StandardScaler\n",
    "from sklearn.pipeline import make_pipeline\n",
    "\n",
    "log_reg_pipe = make_pipeline(\n",
    "    StandardScaler(),\n",
    "    LogisticRegression(C=0.5, solver='lbfgs', random_state=1)\n",
    ")\n",
    "log_reg_pipe.fit(X_train, y_train)\n",
    "\n",
    "print('Log reg train score:', log_reg_pipe.score(X_train, y_train))\n",
    "print('Log reg test score:', log_reg_pipe.score(X_test, y_test))"
   ]
  },
  {
   "cell_type": "code",
   "execution_count": 4,
   "id": "bfc6efc2-e446-48bb-8ec3-cb23cfce4067",
   "metadata": {},
   "outputs": [
    {
     "name": "stdout",
     "output_type": "stream",
     "text": [
      "Grid search log reg best_score: 0.7226612196432105\n",
      "Grid search log reg best_params: {'logisticregression__C': 0.5}\n"
     ]
    }
   ],
   "source": [
    "from sklearn.model_selection import GridSearchCV\n",
    "\n",
    "param_range = [0.0001, 0.001, 0.01, 0.1, 0.5, 1.0, 5.0, 10.0, 100.0, 1000.0]\n",
    "param_grid = [{'logisticregression__C': param_range}]\n",
    "grid_search = GridSearchCV(\n",
    "    estimator=log_reg_pipe,\n",
    "    param_grid=param_grid,\n",
    "    scoring='accuracy',\n",
    "    cv=10,\n",
    "    refit=True,\n",
    "    n_jobs=-1\n",
    ")\n",
    "\n",
    "grid_search.fit(X_train, y_train)\n",
    "print('Grid search log reg best_score:', grid_search.best_score_)\n",
    "print('Grid search log reg best_params:', grid_search.best_params_)"
   ]
  },
  {
   "cell_type": "code",
   "execution_count": 5,
   "id": "88a5a6ee-b988-4452-b3c1-35a605591e4b",
   "metadata": {},
   "outputs": [
    {
     "name": "stdout",
     "output_type": "stream",
     "text": [
      "RandomForest train score: 0.936953520478601\n",
      "RandomForest test score: 0.7065317387304508\n",
      "Column importances:\n",
      "[('Age', 0.35880337865699186),\n",
      " ('VIP', 0.20297120002550653),\n",
      " ('CryoSleep', 0.18166280929986622),\n",
      " ('RoomService', 0.07968366393670168),\n",
      " ('Deck_T', 0.02612687543299052),\n",
      " ('Dest_PSO', 0.023259604198538897),\n",
      " ('HomePlanet_Europa', 0.02252613940564539),\n",
      " ('GroupSize', 0.019770107801728585),\n",
      " ('Deck_F', 0.018896458521944708),\n",
      " ('Deck_E', 0.01694595554342488),\n",
      " ('Deck_D', 0.014785696269549932),\n",
      " ('HomePlanet_Mars', 0.010719249258873378),\n",
      " ('Dest_TRAPPIST', 0.008229117663043859),\n",
      " ('Deck_B', 0.008067629416050541),\n",
      " ('Deck_C', 0.007343686910355404),\n",
      " ('Deck_G', 0.00020842765878762847)]\n"
     ]
    }
   ],
   "source": [
    "from sklearn.ensemble import RandomForestClassifier\n",
    "from pprint import pprint\n",
    "forest = RandomForestClassifier(n_estimators=100,\n",
    "                                random_state=1)\n",
    "forest.fit(X_train, y_train)\n",
    "\n",
    "print('RandomForest train score:', forest.score(X_train, y_train))\n",
    "print('RandomForest test score:', forest.score(X_test, y_test))\n",
    "\n",
    "importances = forest.feature_importances_\n",
    "# print(importances)\n",
    "\n",
    "final_columns = ['CryoSleep', 'Age', 'VIP', 'RoomService', 'GroupSize', 'HomePlanet_Europa', 'HomePlanet_Mars',\n",
    "                 'Dest_PSO', 'Dest_TRAPPIST', 'Deck_B', 'Deck_C', 'Deck_D', 'Deck_E', 'Deck_F', 'Deck_G',\n",
    "                 'Deck_T', 'Side_S']\n",
    "\n",
    "items = zip(final_columns, importances)\n",
    "print('Column importances:')\n",
    "pprint(sorted(items, key=lambda v: v[1], reverse=True))"
   ]
  },
  {
   "cell_type": "code",
   "execution_count": 6,
   "id": "13ddf95e-f1eb-40eb-898a-d98b4b085baf",
   "metadata": {
    "tags": []
   },
   "outputs": [
    {
     "name": "stdout",
     "output_type": "stream",
     "text": [
      "Grid search random forest best_score: 0.7065498572276724\n",
      "Grid search random forest best_params: {'n_estimators': 100}\n"
     ]
    }
   ],
   "source": [
    "param_grid = [{'n_estimators': [100, 200, 300, 400, 500, 600]}]\n",
    "grid_search = GridSearchCV(\n",
    "    estimator=forest,\n",
    "    param_grid=param_grid,\n",
    "    scoring='accuracy',\n",
    "    cv=10,\n",
    "    refit=True,\n",
    "    n_jobs=-1\n",
    ")\n",
    "\n",
    "grid_search.fit(X_train, y_train)\n",
    "print('Grid search random forest best_score:', grid_search.best_score_)\n",
    "print('Grid search random forest best_params:', grid_search.best_params_)"
   ]
  },
  {
   "cell_type": "code",
   "execution_count": 7,
   "id": "6a981f33-871a-41e4-a8f1-99c5c22970c6",
   "metadata": {
    "tags": []
   },
   "outputs": [
    {
     "name": "stdout",
     "output_type": "stream",
     "text": [
      "Rbf svm train score: 0.7455131155085136\n",
      "Rbf svm test score: 0.7428702851885924\n"
     ]
    }
   ],
   "source": [
    "from sklearn.svm import SVC\n",
    "\n",
    "svm_pipe = make_pipeline(\n",
    "    StandardScaler(),\n",
    "    SVC(kernel='rbf', gamma=0.1, C=0.1, random_state=1)\n",
    ")\n",
    "svm_pipe.fit(X_train, y_train)\n",
    "\n",
    "print('Rbf svm train score:', svm_pipe.score(X_train, y_train))\n",
    "print('Rbf svm test score:', svm_pipe.score(X_test, y_test))"
   ]
  },
  {
   "cell_type": "code",
   "execution_count": 8,
   "id": "2753e55f-0614-46d9-a729-c0acd77fef5f",
   "metadata": {
    "tags": []
   },
   "outputs": [],
   "source": [
    "# svm_param_range = [0.0001, 0.001, 0.01, 0.1, 1.0, 10.0, 100.0, 1000.0]\n",
    "# param_grid = [{'svc__C': svm_param_range, 'svc__gamma': svm_param_range, 'svc__kernel': ['rbf']}]\n",
    "# grid_search = GridSearchCV(\n",
    "#     estimator=svm_pipe,\n",
    "#     param_grid=param_grid,\n",
    "#     scoring='accuracy',\n",
    "#     cv=10,\n",
    "#     refit=True,\n",
    "#     n_jobs=-1\n",
    "# )\n",
    "\n",
    "# grid_search.fit(X_train, y_train)\n",
    "# print('Grid search Rbf svm best_score:', grid_search.best_score_)\n",
    "# print('Grid search Rbf svm best_params:', grid_search.best_params_)\n",
    "\n",
    "# best score 0.7415260147201568\n",
    "# best params {'svc__C': 1.0, 'svc__gamma': 0.1, 'svc__kernel': 'rbf'}"
   ]
  },
  {
   "cell_type": "code",
   "execution_count": 9,
   "id": "a36b4525-f4cd-4704-8473-ded965582a5c",
   "metadata": {
    "tags": []
   },
   "outputs": [],
   "source": [
    "from train_tools import MajorityVoteClassifier\n",
    "majority_clf = MajorityVoteClassifier(classifiers=[forest, log_reg_pipe])"
   ]
  },
  {
   "cell_type": "code",
   "execution_count": 10,
   "id": "fcb9ecf6-b01d-4bd8-9a03-ffa81fc91e17",
   "metadata": {
    "tags": []
   },
   "outputs": [
    {
     "name": "stdout",
     "output_type": "stream",
     "text": [
      "before transform: ['a' 'a' 'c' 'c' 'b' 'd' 'e']\n",
      "after transform: [0 0 2 2 1 3 4]\n",
      "mapping: {0: 'a', 1: 'b', 2: 'c', 3: 'd', 4: 'e'}\n",
      "try inverse transform: ['a' 'a' 'c' 'c' 'b' 'd' 'e']\n"
     ]
    }
   ],
   "source": [
    "import numpy as np\n",
    "from sklearn.preprocessing import LabelEncoder\n",
    "\n",
    "encoder = LabelEncoder()\n",
    "# y_fit_example = np.array([-1, -2, -3, -4, -5])\n",
    "y_fit_example = np.array(['a', 'b', 'c', 'd', 'e'])\n",
    "encoder.fit(y_fit_example)\n",
    "\n",
    "y_pretransform_example = np.array(['a', 'a', 'c', 'c', 'b', 'd', 'e'])\n",
    "print(f'before transform: {y_pretransform_example}')\n",
    "y_transformed = encoder.transform(y_pretransform_example)\n",
    "print(f'after transform: {y_transformed}')\n",
    "mapping = {i: v for i, v in enumerate(encoder.classes_)}\n",
    "print(f'mapping: {mapping}')\n",
    "\n",
    "print(f'try inverse transform: {encoder.inverse_transform(y_transformed)}')"
   ]
  },
  {
   "cell_type": "code",
   "execution_count": 24,
   "id": "fde23a71-b4cf-4760-84e7-2fa905886bb1",
   "metadata": {
    "tags": []
   },
   "outputs": [],
   "source": [
    "from train_tools import MajorityVoteClassifier\n",
    "\n",
    "from sklearn.neighbors import KNeighborsClassifier\n",
    "from sklearn.tree import DecisionTreeClassifier\n",
    "\n",
    "kn_clf = KNeighborsClassifier(n_neighbors=1,\n",
    "                              p=2,\n",
    "                              metric='minkowski')\n",
    "tree_clf = DecisionTreeClassifier(max_depth=1,\n",
    "                                  criterion='entropy',\n",
    "                                  random_state=0)\n",
    "\n",
    "# ERROR when using svm_pipe\n",
    "# maj_clf = MajorityVoteClassifier([forest, log_reg_pipe, svm_pipe])\n",
    "maj_clf = MajorityVoteClassifier([tree_clf, log_reg_pipe, kn_clf])\n",
    "# maj_clf.get_params()"
   ]
  },
  {
   "cell_type": "code",
   "execution_count": 25,
   "id": "adb9ce34-5536-49a8-a6ef-c8630d5b18f9",
   "metadata": {},
   "outputs": [
    {
     "name": "stdout",
     "output_type": "stream",
     "text": [
      "score: 0.7185294343906976 / std: 0.02155674752669875 / Tree\n",
      "score: 0.7925879846232414 / std: 0.02517204484267896 / Log reg\n",
      "score: 0.6491123317465302 / std: 0.01698809256861472 / KNeigh\n",
      "score: 0.7726387200254241 / std: 0.023096639285711703 / Majoritary\n"
     ]
    }
   ],
   "source": [
    "from sklearn.model_selection import cross_val_score\n",
    "\n",
    "# all_clf = [forest, log_reg_pipe, svm_pipe, maj_clf]\n",
    "# clf_labels = ['Random forest', 'Log reg', 'SVM', 'Majoritary']\n",
    "\n",
    "all_clf = [tree_clf, log_reg_pipe, kn_clf, maj_clf]\n",
    "clf_labels = ['Tree', 'Log reg', 'KNeigh', 'Majoritary']\n",
    "for clf, label in zip(all_clf, clf_labels):\n",
    "    # scoring='roc_auc'\n",
    "    scores = cross_val_score(estimator=clf,\n",
    "                             X=X_train,\n",
    "                             y=y_train,\n",
    "                             cv=10,\n",
    "                             scoring='roc_auc')\n",
    "    print(f'score: {scores.mean()} / std: {scores.std()} / {label}')"
   ]
  },
  {
   "cell_type": "code",
   "execution_count": 14,
   "id": "3d8ba2d3-580c-4637-9566-64445bf7a87c",
   "metadata": {
    "tags": []
   },
   "outputs": [
    {
     "name": "stderr",
     "output_type": "stream",
     "text": [
      "/home/irvind/dev/spaceship_titanic/df_tools.py:102: SettingWithCopyWarning: \n",
      "A value is trying to be set on a copy of a slice from a DataFrame.\n",
      "Try using .loc[row_indexer,col_indexer] = value instead\n",
      "\n",
      "See the caveats in the documentation: https://pandas.pydata.org/pandas-docs/stable/user_guide/indexing.html#returning-a-view-versus-a-copy\n",
      "  df2['CryoSleep'] = df2['CryoSleep'].astype(int)\n"
     ]
    },
    {
     "data": {
      "text/html": [
       "<div>\n",
       "<style scoped>\n",
       "    .dataframe tbody tr th:only-of-type {\n",
       "        vertical-align: middle;\n",
       "    }\n",
       "\n",
       "    .dataframe tbody tr th {\n",
       "        vertical-align: top;\n",
       "    }\n",
       "\n",
       "    .dataframe thead th {\n",
       "        text-align: right;\n",
       "    }\n",
       "</style>\n",
       "<table border=\"1\" class=\"dataframe\">\n",
       "  <thead>\n",
       "    <tr style=\"text-align: right;\">\n",
       "      <th></th>\n",
       "      <th>PassengerId</th>\n",
       "      <th>Transported</th>\n",
       "    </tr>\n",
       "  </thead>\n",
       "  <tbody>\n",
       "    <tr>\n",
       "      <th>0</th>\n",
       "      <td>0013_01</td>\n",
       "      <td>True</td>\n",
       "    </tr>\n",
       "    <tr>\n",
       "      <th>1</th>\n",
       "      <td>0018_01</td>\n",
       "      <td>False</td>\n",
       "    </tr>\n",
       "    <tr>\n",
       "      <th>2</th>\n",
       "      <td>0019_01</td>\n",
       "      <td>True</td>\n",
       "    </tr>\n",
       "    <tr>\n",
       "      <th>3</th>\n",
       "      <td>0021_01</td>\n",
       "      <td>True</td>\n",
       "    </tr>\n",
       "    <tr>\n",
       "      <th>4</th>\n",
       "      <td>0023_01</td>\n",
       "      <td>False</td>\n",
       "    </tr>\n",
       "    <tr>\n",
       "      <th>...</th>\n",
       "      <td>...</td>\n",
       "      <td>...</td>\n",
       "    </tr>\n",
       "    <tr>\n",
       "      <th>4272</th>\n",
       "      <td>9266_02</td>\n",
       "      <td>True</td>\n",
       "    </tr>\n",
       "    <tr>\n",
       "      <th>4273</th>\n",
       "      <td>9269_01</td>\n",
       "      <td>False</td>\n",
       "    </tr>\n",
       "    <tr>\n",
       "      <th>4274</th>\n",
       "      <td>9271_01</td>\n",
       "      <td>True</td>\n",
       "    </tr>\n",
       "    <tr>\n",
       "      <th>4275</th>\n",
       "      <td>9273_01</td>\n",
       "      <td>False</td>\n",
       "    </tr>\n",
       "    <tr>\n",
       "      <th>4276</th>\n",
       "      <td>9277_01</td>\n",
       "      <td>True</td>\n",
       "    </tr>\n",
       "  </tbody>\n",
       "</table>\n",
       "<p>4277 rows × 2 columns</p>\n",
       "</div>"
      ],
      "text/plain": [
       "     PassengerId  Transported\n",
       "0        0013_01         True\n",
       "1        0018_01        False\n",
       "2        0019_01         True\n",
       "3        0021_01         True\n",
       "4        0023_01        False\n",
       "...          ...          ...\n",
       "4272     9266_02         True\n",
       "4273     9269_01        False\n",
       "4274     9271_01         True\n",
       "4275     9273_01        False\n",
       "4276     9277_01         True\n",
       "\n",
       "[4277 rows x 2 columns]"
      ]
     },
     "execution_count": 14,
     "metadata": {},
     "output_type": "execute_result"
    }
   ],
   "source": [
    "df_test = pd.read_csv('data/test.csv')\n",
    "# grid_search.predict\n",
    "\n",
    "X_submit = df_tools.prepare_dataset(df_test, with_y=False)\n",
    "y_submit = svm_pipe.predict(X_submit)\n",
    "y_submit\n",
    "\n",
    "answer_ser = pd.Series(y_submit, dtype='int32').astype(bool)\n",
    "df_submit = pd.read_csv('data/sample_submission.csv')\n",
    "df_submit['Transported'] = answer_ser\n",
    "\n",
    "# df_submit.to_csv('answer.csv', index=False)\n",
    "# df_submit"
   ]
  }
 ],
 "metadata": {
  "kernelspec": {
   "display_name": "Python 3 (ipykernel)",
   "language": "python",
   "name": "python3"
  },
  "language_info": {
   "codemirror_mode": {
    "name": "ipython",
    "version": 3
   },
   "file_extension": ".py",
   "mimetype": "text/x-python",
   "name": "python",
   "nbconvert_exporter": "python",
   "pygments_lexer": "ipython3",
   "version": "3.10.9"
  }
 },
 "nbformat": 4,
 "nbformat_minor": 5
}
