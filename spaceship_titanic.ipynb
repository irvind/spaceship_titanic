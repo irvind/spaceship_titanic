{
 "cells": [
  {
   "cell_type": "code",
   "execution_count": 1,
   "id": "de3d95f1-c83e-4a51-bc7b-2c35a4014acf",
   "metadata": {
    "tags": []
   },
   "outputs": [
    {
     "data": {
      "text/html": [
       "<div>\n",
       "<style scoped>\n",
       "    .dataframe tbody tr th:only-of-type {\n",
       "        vertical-align: middle;\n",
       "    }\n",
       "\n",
       "    .dataframe tbody tr th {\n",
       "        vertical-align: top;\n",
       "    }\n",
       "\n",
       "    .dataframe thead th {\n",
       "        text-align: right;\n",
       "    }\n",
       "</style>\n",
       "<table border=\"1\" class=\"dataframe\">\n",
       "  <thead>\n",
       "    <tr style=\"text-align: right;\">\n",
       "      <th></th>\n",
       "      <th>PassengerId</th>\n",
       "      <th>HomePlanet</th>\n",
       "      <th>CryoSleep</th>\n",
       "      <th>Cabin</th>\n",
       "      <th>Destination</th>\n",
       "      <th>Age</th>\n",
       "      <th>VIP</th>\n",
       "      <th>RoomService</th>\n",
       "      <th>FoodCourt</th>\n",
       "      <th>ShoppingMall</th>\n",
       "      <th>Spa</th>\n",
       "      <th>VRDeck</th>\n",
       "      <th>Name</th>\n",
       "      <th>Transported</th>\n",
       "    </tr>\n",
       "  </thead>\n",
       "  <tbody>\n",
       "    <tr>\n",
       "      <th>0</th>\n",
       "      <td>0001_01</td>\n",
       "      <td>Europa</td>\n",
       "      <td>False</td>\n",
       "      <td>B/0/P</td>\n",
       "      <td>TRAPPIST-1e</td>\n",
       "      <td>39.0</td>\n",
       "      <td>False</td>\n",
       "      <td>0.0</td>\n",
       "      <td>0.0</td>\n",
       "      <td>0.0</td>\n",
       "      <td>0.0</td>\n",
       "      <td>0.0</td>\n",
       "      <td>Maham Ofracculy</td>\n",
       "      <td>False</td>\n",
       "    </tr>\n",
       "    <tr>\n",
       "      <th>1</th>\n",
       "      <td>0002_01</td>\n",
       "      <td>Earth</td>\n",
       "      <td>False</td>\n",
       "      <td>F/0/S</td>\n",
       "      <td>TRAPPIST-1e</td>\n",
       "      <td>24.0</td>\n",
       "      <td>False</td>\n",
       "      <td>109.0</td>\n",
       "      <td>9.0</td>\n",
       "      <td>25.0</td>\n",
       "      <td>549.0</td>\n",
       "      <td>44.0</td>\n",
       "      <td>Juanna Vines</td>\n",
       "      <td>True</td>\n",
       "    </tr>\n",
       "    <tr>\n",
       "      <th>2</th>\n",
       "      <td>0003_01</td>\n",
       "      <td>Europa</td>\n",
       "      <td>False</td>\n",
       "      <td>A/0/S</td>\n",
       "      <td>TRAPPIST-1e</td>\n",
       "      <td>58.0</td>\n",
       "      <td>True</td>\n",
       "      <td>43.0</td>\n",
       "      <td>3576.0</td>\n",
       "      <td>0.0</td>\n",
       "      <td>6715.0</td>\n",
       "      <td>49.0</td>\n",
       "      <td>Altark Susent</td>\n",
       "      <td>False</td>\n",
       "    </tr>\n",
       "    <tr>\n",
       "      <th>3</th>\n",
       "      <td>0003_02</td>\n",
       "      <td>Europa</td>\n",
       "      <td>False</td>\n",
       "      <td>A/0/S</td>\n",
       "      <td>TRAPPIST-1e</td>\n",
       "      <td>33.0</td>\n",
       "      <td>False</td>\n",
       "      <td>0.0</td>\n",
       "      <td>1283.0</td>\n",
       "      <td>371.0</td>\n",
       "      <td>3329.0</td>\n",
       "      <td>193.0</td>\n",
       "      <td>Solam Susent</td>\n",
       "      <td>False</td>\n",
       "    </tr>\n",
       "    <tr>\n",
       "      <th>4</th>\n",
       "      <td>0004_01</td>\n",
       "      <td>Earth</td>\n",
       "      <td>False</td>\n",
       "      <td>F/1/S</td>\n",
       "      <td>TRAPPIST-1e</td>\n",
       "      <td>16.0</td>\n",
       "      <td>False</td>\n",
       "      <td>303.0</td>\n",
       "      <td>70.0</td>\n",
       "      <td>151.0</td>\n",
       "      <td>565.0</td>\n",
       "      <td>2.0</td>\n",
       "      <td>Willy Santantines</td>\n",
       "      <td>True</td>\n",
       "    </tr>\n",
       "    <tr>\n",
       "      <th>...</th>\n",
       "      <td>...</td>\n",
       "      <td>...</td>\n",
       "      <td>...</td>\n",
       "      <td>...</td>\n",
       "      <td>...</td>\n",
       "      <td>...</td>\n",
       "      <td>...</td>\n",
       "      <td>...</td>\n",
       "      <td>...</td>\n",
       "      <td>...</td>\n",
       "      <td>...</td>\n",
       "      <td>...</td>\n",
       "      <td>...</td>\n",
       "      <td>...</td>\n",
       "    </tr>\n",
       "    <tr>\n",
       "      <th>8688</th>\n",
       "      <td>9276_01</td>\n",
       "      <td>Europa</td>\n",
       "      <td>False</td>\n",
       "      <td>A/98/P</td>\n",
       "      <td>55 Cancri e</td>\n",
       "      <td>41.0</td>\n",
       "      <td>True</td>\n",
       "      <td>0.0</td>\n",
       "      <td>6819.0</td>\n",
       "      <td>0.0</td>\n",
       "      <td>1643.0</td>\n",
       "      <td>74.0</td>\n",
       "      <td>Gravior Noxnuther</td>\n",
       "      <td>False</td>\n",
       "    </tr>\n",
       "    <tr>\n",
       "      <th>8689</th>\n",
       "      <td>9278_01</td>\n",
       "      <td>Earth</td>\n",
       "      <td>True</td>\n",
       "      <td>G/1499/S</td>\n",
       "      <td>PSO J318.5-22</td>\n",
       "      <td>18.0</td>\n",
       "      <td>False</td>\n",
       "      <td>0.0</td>\n",
       "      <td>0.0</td>\n",
       "      <td>0.0</td>\n",
       "      <td>0.0</td>\n",
       "      <td>0.0</td>\n",
       "      <td>Kurta Mondalley</td>\n",
       "      <td>False</td>\n",
       "    </tr>\n",
       "    <tr>\n",
       "      <th>8690</th>\n",
       "      <td>9279_01</td>\n",
       "      <td>Earth</td>\n",
       "      <td>False</td>\n",
       "      <td>G/1500/S</td>\n",
       "      <td>TRAPPIST-1e</td>\n",
       "      <td>26.0</td>\n",
       "      <td>False</td>\n",
       "      <td>0.0</td>\n",
       "      <td>0.0</td>\n",
       "      <td>1872.0</td>\n",
       "      <td>1.0</td>\n",
       "      <td>0.0</td>\n",
       "      <td>Fayey Connon</td>\n",
       "      <td>True</td>\n",
       "    </tr>\n",
       "    <tr>\n",
       "      <th>8691</th>\n",
       "      <td>9280_01</td>\n",
       "      <td>Europa</td>\n",
       "      <td>False</td>\n",
       "      <td>E/608/S</td>\n",
       "      <td>55 Cancri e</td>\n",
       "      <td>32.0</td>\n",
       "      <td>False</td>\n",
       "      <td>0.0</td>\n",
       "      <td>1049.0</td>\n",
       "      <td>0.0</td>\n",
       "      <td>353.0</td>\n",
       "      <td>3235.0</td>\n",
       "      <td>Celeon Hontichre</td>\n",
       "      <td>False</td>\n",
       "    </tr>\n",
       "    <tr>\n",
       "      <th>8692</th>\n",
       "      <td>9280_02</td>\n",
       "      <td>Europa</td>\n",
       "      <td>False</td>\n",
       "      <td>E/608/S</td>\n",
       "      <td>TRAPPIST-1e</td>\n",
       "      <td>44.0</td>\n",
       "      <td>False</td>\n",
       "      <td>126.0</td>\n",
       "      <td>4688.0</td>\n",
       "      <td>0.0</td>\n",
       "      <td>0.0</td>\n",
       "      <td>12.0</td>\n",
       "      <td>Propsh Hontichre</td>\n",
       "      <td>True</td>\n",
       "    </tr>\n",
       "  </tbody>\n",
       "</table>\n",
       "<p>8693 rows × 14 columns</p>\n",
       "</div>"
      ],
      "text/plain": [
       "     PassengerId HomePlanet CryoSleep     Cabin    Destination   Age    VIP  \\\n",
       "0        0001_01     Europa     False     B/0/P    TRAPPIST-1e  39.0  False   \n",
       "1        0002_01      Earth     False     F/0/S    TRAPPIST-1e  24.0  False   \n",
       "2        0003_01     Europa     False     A/0/S    TRAPPIST-1e  58.0   True   \n",
       "3        0003_02     Europa     False     A/0/S    TRAPPIST-1e  33.0  False   \n",
       "4        0004_01      Earth     False     F/1/S    TRAPPIST-1e  16.0  False   \n",
       "...          ...        ...       ...       ...            ...   ...    ...   \n",
       "8688     9276_01     Europa     False    A/98/P    55 Cancri e  41.0   True   \n",
       "8689     9278_01      Earth      True  G/1499/S  PSO J318.5-22  18.0  False   \n",
       "8690     9279_01      Earth     False  G/1500/S    TRAPPIST-1e  26.0  False   \n",
       "8691     9280_01     Europa     False   E/608/S    55 Cancri e  32.0  False   \n",
       "8692     9280_02     Europa     False   E/608/S    TRAPPIST-1e  44.0  False   \n",
       "\n",
       "      RoomService  FoodCourt  ShoppingMall     Spa  VRDeck               Name  \\\n",
       "0             0.0        0.0           0.0     0.0     0.0    Maham Ofracculy   \n",
       "1           109.0        9.0          25.0   549.0    44.0       Juanna Vines   \n",
       "2            43.0     3576.0           0.0  6715.0    49.0      Altark Susent   \n",
       "3             0.0     1283.0         371.0  3329.0   193.0       Solam Susent   \n",
       "4           303.0       70.0         151.0   565.0     2.0  Willy Santantines   \n",
       "...           ...        ...           ...     ...     ...                ...   \n",
       "8688          0.0     6819.0           0.0  1643.0    74.0  Gravior Noxnuther   \n",
       "8689          0.0        0.0           0.0     0.0     0.0    Kurta Mondalley   \n",
       "8690          0.0        0.0        1872.0     1.0     0.0       Fayey Connon   \n",
       "8691          0.0     1049.0           0.0   353.0  3235.0   Celeon Hontichre   \n",
       "8692        126.0     4688.0           0.0     0.0    12.0   Propsh Hontichre   \n",
       "\n",
       "      Transported  \n",
       "0           False  \n",
       "1            True  \n",
       "2           False  \n",
       "3           False  \n",
       "4            True  \n",
       "...           ...  \n",
       "8688        False  \n",
       "8689        False  \n",
       "8690         True  \n",
       "8691        False  \n",
       "8692         True  \n",
       "\n",
       "[8693 rows x 14 columns]"
      ]
     },
     "execution_count": 1,
     "metadata": {},
     "output_type": "execute_result"
    }
   ],
   "source": [
    "import pandas as pd\n",
    "\n",
    "# TODO: show correlation with Transported for Age, RoomService, FoodCourt, ShoppingMall, Spa, VRDeck\n",
    "# TODO: handle outliers (use feature clipping)\n",
    "# https://machinelearningmastery.com/how-to-use-statistics-to-identify-outliers-in-data/\n",
    "# https://scikit-learn.org/stable/modules/outlier_detection.html\n",
    "# https://scikit-learn.org/stable/modules/preprocessing.html#preprocessing-scaler\n",
    "# https://scikit-learn.org/stable/modules/generated/sklearn.preprocessing.RobustScaler.html#sklearn.preprocessing.RobustScaler\n",
    "# https://datascience.stackexchange.com/questions/102625/is-standardization-normalization-a-good-way-of-reducing-the-impact-of-outliers-w\n",
    "# https://machinelearningmastery.com/robust-scaler-transforms-for-machine-learning/\n",
    "# https://stats.stackexchange.com/questions/402470/how-can-i-use-scaling-and-log-transforming-together\n",
    "# https://scikit-learn.org/stable/modules/generated/sklearn.preprocessing.FunctionTransformer.html\n",
    "\n",
    "df = pd.read_csv('data/train.csv')\n",
    "df"
   ]
  },
  {
   "cell_type": "code",
   "execution_count": 2,
   "id": "288d319b-b0bc-40ca-8af6-a3ae0ed1c055",
   "metadata": {
    "tags": []
   },
   "outputs": [
    {
     "data": {
      "text/plain": [
       "PassengerId       0\n",
       "HomePlanet      201\n",
       "CryoSleep       217\n",
       "Cabin           199\n",
       "Destination     182\n",
       "Age             179\n",
       "VIP             203\n",
       "RoomService     181\n",
       "FoodCourt       183\n",
       "ShoppingMall    208\n",
       "Spa             183\n",
       "VRDeck          188\n",
       "Name            200\n",
       "Transported       0\n",
       "dtype: int64"
      ]
     },
     "execution_count": 2,
     "metadata": {},
     "output_type": "execute_result"
    }
   ],
   "source": [
    "# Count missing values in a dataframe\n",
    "df.isnull().sum()"
   ]
  },
  {
   "cell_type": "code",
   "execution_count": 3,
   "id": "ac01e940-341b-4538-a274-48a3b12dedf6",
   "metadata": {
    "tags": []
   },
   "outputs": [
    {
     "data": {
      "text/plain": [
       "PassengerId      object\n",
       "HomePlanet       object\n",
       "CryoSleep        object\n",
       "Cabin            object\n",
       "Destination      object\n",
       "Age             float64\n",
       "VIP              object\n",
       "RoomService     float64\n",
       "FoodCourt       float64\n",
       "ShoppingMall    float64\n",
       "Spa             float64\n",
       "VRDeck          float64\n",
       "Name             object\n",
       "Transported        bool\n",
       "dtype: object"
      ]
     },
     "execution_count": 3,
     "metadata": {},
     "output_type": "execute_result"
    }
   ],
   "source": [
    "df.dtypes"
   ]
  },
  {
   "cell_type": "code",
   "execution_count": 4,
   "id": "50a4fb89-1228-4a83-beeb-4fd84f4647f6",
   "metadata": {
    "tags": []
   },
   "outputs": [
    {
     "name": "stdout",
     "output_type": "stream",
     "text": [
      "0.0 values for each column:\n",
      "RoomService 5577\n",
      "FoodCourt 5456\n",
      "ShoppingMall 5587\n",
      "Spa 5324\n",
      "VRDeck 5495\n"
     ]
    }
   ],
   "source": [
    "print('0.0 values for each column:')\n",
    "cols = ['RoomService', 'FoodCourt', 'ShoppingMall', 'Spa', 'VRDeck']\n",
    "for col in cols:\n",
    "    print(col, sum(df[col].values == 0.0))"
   ]
  },
  {
   "cell_type": "code",
   "execution_count": 5,
   "id": "d8e9c06b-2167-478b-a968-80d80d33aa42",
   "metadata": {
    "tags": []
   },
   "outputs": [
    {
     "name": "stdout",
     "output_type": "stream",
     "text": [
      "indicies with null: [38, 102, 145, 228, 566, 582, 596, 646, 649, 678]\n",
      "len 203\n",
      "value of index 38: nan / type: <class 'float'>\n",
      "isnan: True\n"
     ]
    }
   ],
   "source": [
    "import numpy as np\n",
    "import math\n",
    "\n",
    "def get_null_indicies_for_column(df, column):\n",
    "    return sorted([idx for idx, missing in df[column].isnull().items() if missing])\n",
    "\n",
    "vip_null_indicies = get_null_indicies_for_column(df, 'VIP')\n",
    "print('indicies with null:', vip_null_indicies[0:10])\n",
    "print('len', len(vip_null_indicies))\n",
    "print('value of index 38:', df['VIP'][38], '/ type:', type(df['VIP'][38]))\n",
    "print('isnan:', math.isnan(df['VIP'][38]))\n",
    "# print(math.isnan(np.nan)) - also True"
   ]
  },
  {
   "cell_type": "code",
   "execution_count": 6,
   "id": "65e9c2f3-2175-4cbf-9093-c2e2b05b674b",
   "metadata": {},
   "outputs": [],
   "source": [
    "def augument_cabin(df):\n",
    "    deck_values = []\n",
    "    num_values = []\n",
    "    side_values = []\n",
    "    for val in df['Cabin']:\n",
    "        if isinstance(val, str):\n",
    "            tokens = val.split('/')\n",
    "            assert len(tokens) == 3\n",
    "            deck_values.append(tokens[0])\n",
    "            num_values.append(int(tokens[1]))\n",
    "            side_values.append(tokens[2])\n",
    "        else:\n",
    "            deck_values.append(np.nan)\n",
    "            num_values.append(np.nan)\n",
    "            side_values.append(np.nan)\n",
    "\n",
    "    df['Deck'] = pd.Series(deck_values, dtype='object')\n",
    "    df['CabinIndex'] = pd.Series(num_values, dtype='object')\n",
    "    df['Side'] = pd.Series(side_values, dtype='object')\n",
    "    \n",
    "augument_cabin(df)"
   ]
  },
  {
   "cell_type": "code",
   "execution_count": 7,
   "id": "3cd805ee-6007-422b-9bc0-5aab1641087f",
   "metadata": {
    "tags": []
   },
   "outputs": [],
   "source": [
    "from sklearn.impute import SimpleImputer\n",
    "\n",
    "# print(df['VIP'].value_counts(dropna=False))\n",
    "# print(df['VIP'].values.reshape(-1, 1).shape)\n",
    "# print(df['VIP'].values.reshape(-1, 1)[:, 0].shape)\n",
    "\n",
    "def impute_general_cols(df):\n",
    "    cat_and_bool_imputer = SimpleImputer(missing_values=np.nan, strategy='most_frequent')\n",
    "    values_before_imputer = df[['HomePlanet', 'CryoSleep', 'Destination', 'VIP', 'Deck', 'Side']].values\n",
    "    values_after_imputer = cat_and_bool_imputer.fit_transform(values_before_imputer)\n",
    "\n",
    "    df['HomePlanet'] = pd.Series(values_after_imputer[:, 0], dtype='category')\n",
    "    df['CryoSleep'] = pd.Series(values_after_imputer[:, 1], dtype=bool)\n",
    "    df['Destination'] = pd.Series(values_after_imputer[:, 2], dtype='category')\n",
    "    df['VIP'] = pd.Series(values_after_imputer[:, 3], dtype=bool)\n",
    "    df['Deck'] = pd.Series(values_after_imputer[:, 4], dtype='category')\n",
    "    df['Side'] = pd.Series(values_after_imputer[:, 5], dtype='category')\n",
    "\n",
    "    expenses_columns = ['RoomService', 'FoodCourt', 'ShoppingMall', 'Spa', 'VRDeck']\n",
    "    expenses_imputer = SimpleImputer(missing_values=np.nan, strategy='constant')\n",
    "    values_before_imputer = df[expenses_columns].values\n",
    "    values_after_imputer = expenses_imputer.fit_transform(values_before_imputer)\n",
    "\n",
    "    for idx, col in enumerate(expenses_columns):\n",
    "        df[col] = pd.Series(values_after_imputer[:, idx], dtype='float64')\n",
    "\n",
    "    age_imputer = SimpleImputer(missing_values=np.nan, strategy='mean')\n",
    "    values_before_imputer = df[['Age']].values\n",
    "    values_after_imputer = age_imputer.fit_transform(values_before_imputer)\n",
    "    df['Age'] = pd.Series(values_after_imputer[:, 0], dtype='float64')\n",
    "\n",
    "impute_general_cols(df)"
   ]
  },
  {
   "cell_type": "code",
   "execution_count": 8,
   "id": "a06a25d7-9c7f-4195-a452-fe977343beb7",
   "metadata": {
    "tags": []
   },
   "outputs": [],
   "source": [
    "def impute_name(df):\n",
    "    name_values = df['Name'].values\n",
    "    passenger_id_values = df['PassengerId'].values\n",
    "    name_null_indicies = np.argwhere(df['Name'].isnull().values).flatten()\n",
    "    name_values[name_null_indicies] = 'UnknownName_' + passenger_id_values[name_null_indicies]\n",
    "    df['Name'] = pd.Series(name_values, dtype='object')\n",
    "    \n",
    "impute_name(df)"
   ]
  },
  {
   "cell_type": "code",
   "execution_count": 9,
   "id": "34853b96-ab0c-46b4-95f7-f308d0d75e96",
   "metadata": {},
   "outputs": [],
   "source": [
    "def impute_cabin_index(df):\n",
    "    cabin_index_values = df['CabinIndex'].values\n",
    "    cabin_index_null_indicies = np.argwhere(df['CabinIndex'].isnull().values).flatten()\n",
    "    cabin_index_values[cabin_index_null_indicies] = list(range(len(cabin_index_null_indicies)))\n",
    "    df['CabinIndex'] = pd.Series(cabin_index_values, dtype='int32')\n",
    "    \n",
    "def fill_cabin(df):\n",
    "    cabin_values = df['Cabin'].values\n",
    "    cabin_null_indicies = np.argwhere(df['Cabin'].isnull().values).flatten()\n",
    "    for idx in cabin_null_indicies:\n",
    "        item = df.iloc[idx]\n",
    "        cabin_values[idx] = '{}/{}/{}'.format(item['Deck'], str(item['CabinIndex']), item['Side'])\n",
    "    df['Cabin'] = pd.Series(cabin_values, dtype='object')\n",
    "    \n",
    "impute_cabin_index(df)\n",
    "fill_cabin(df)"
   ]
  },
  {
   "cell_type": "code",
   "execution_count": 10,
   "id": "85c09844-c92b-421d-b22b-6c5bb069ec5f",
   "metadata": {
    "tags": []
   },
   "outputs": [],
   "source": [
    "def augument_group_size(df):\n",
    "    col_data = [val.split('_') for val in df['PassengerId']]\n",
    "    counter = {}\n",
    "    for group_id, group_pos in col_data:\n",
    "        if group_id not in counter:\n",
    "            counter[group_id] = 0\n",
    "        counter[group_id] += 1\n",
    "\n",
    "    group_size = []\n",
    "    for group_id, group_pos in col_data:\n",
    "        group_size.append(counter[group_id])\n",
    "    df['GroupSize'] = pd.Series(group_size, dtype='int32')\n",
    "    \n",
    "augument_group_size(df)"
   ]
  },
  {
   "cell_type": "code",
   "execution_count": 11,
   "id": "9f5215fe-1a95-43fe-8336-0621278c236b",
   "metadata": {},
   "outputs": [],
   "source": [
    "def transform_price_columns(df):\n",
    "    cols = ['ShoppingMall', 'RoomService', 'FoodCourt', 'Spa', 'VRDeck']\n",
    "    for col in cols:\n",
    "        df[col] = pd.Series(np.log1p(df[col].values))\n",
    "        \n",
    "transform_price_columns(df)"
   ]
  },
  {
   "cell_type": "code",
   "execution_count": 12,
   "id": "6ab2b0f8-0320-402d-b975-1e70fc5b306e",
   "metadata": {},
   "outputs": [
    {
     "data": {
      "text/plain": [
       "PassengerId     0\n",
       "HomePlanet      0\n",
       "CryoSleep       0\n",
       "Cabin           0\n",
       "Destination     0\n",
       "Age             0\n",
       "VIP             0\n",
       "RoomService     0\n",
       "FoodCourt       0\n",
       "ShoppingMall    0\n",
       "Spa             0\n",
       "VRDeck          0\n",
       "Name            0\n",
       "Transported     0\n",
       "Deck            0\n",
       "CabinIndex      0\n",
       "Side            0\n",
       "GroupSize       0\n",
       "dtype: int64"
      ]
     },
     "execution_count": 12,
     "metadata": {},
     "output_type": "execute_result"
    }
   ],
   "source": [
    "df.isnull().sum()"
   ]
  },
  {
   "cell_type": "code",
   "execution_count": 13,
   "id": "74139456-7ea3-4020-9dca-7b84914e80af",
   "metadata": {},
   "outputs": [
    {
     "data": {
      "text/plain": [
       "PassengerId       object\n",
       "HomePlanet      category\n",
       "CryoSleep           bool\n",
       "Cabin             object\n",
       "Destination     category\n",
       "Age              float64\n",
       "VIP                 bool\n",
       "RoomService      float64\n",
       "FoodCourt        float64\n",
       "ShoppingMall     float64\n",
       "Spa              float64\n",
       "VRDeck           float64\n",
       "Name              object\n",
       "Transported         bool\n",
       "Deck            category\n",
       "CabinIndex         int32\n",
       "Side            category\n",
       "GroupSize          int32\n",
       "dtype: object"
      ]
     },
     "execution_count": 13,
     "metadata": {},
     "output_type": "execute_result"
    }
   ],
   "source": [
    "df.dtypes"
   ]
  },
  {
   "cell_type": "code",
   "execution_count": 14,
   "id": "cd00315a-0d1d-4ed4-9af1-1a395c838d4a",
   "metadata": {
    "tags": []
   },
   "outputs": [
    {
     "data": {
      "text/plain": [
       "82      29\n",
       "86      23\n",
       "19      23\n",
       "176     22\n",
       "56      22\n",
       "        ..\n",
       "1644     1\n",
       "1515     1\n",
       "1639     1\n",
       "1277     1\n",
       "1894     1\n",
       "Name: CabinIndex, Length: 1817, dtype: int64"
      ]
     },
     "execution_count": 14,
     "metadata": {},
     "output_type": "execute_result"
    }
   ],
   "source": [
    "df['CabinIndex'].value_counts()"
   ]
  },
  {
   "cell_type": "code",
   "execution_count": 15,
   "id": "b67ac03d-1d85-4446-8a1e-34c914c9108a",
   "metadata": {
    "tags": []
   },
   "outputs": [
    {
     "data": {
      "text/html": [
       "<div>\n",
       "<style scoped>\n",
       "    .dataframe tbody tr th:only-of-type {\n",
       "        vertical-align: middle;\n",
       "    }\n",
       "\n",
       "    .dataframe tbody tr th {\n",
       "        vertical-align: top;\n",
       "    }\n",
       "\n",
       "    .dataframe thead th {\n",
       "        text-align: right;\n",
       "    }\n",
       "</style>\n",
       "<table border=\"1\" class=\"dataframe\">\n",
       "  <thead>\n",
       "    <tr style=\"text-align: right;\">\n",
       "      <th></th>\n",
       "      <th>PassengerId</th>\n",
       "      <th>HomePlanet</th>\n",
       "      <th>CryoSleep</th>\n",
       "      <th>Cabin</th>\n",
       "      <th>Destination</th>\n",
       "      <th>Age</th>\n",
       "      <th>VIP</th>\n",
       "      <th>RoomService</th>\n",
       "      <th>FoodCourt</th>\n",
       "      <th>ShoppingMall</th>\n",
       "      <th>Spa</th>\n",
       "      <th>VRDeck</th>\n",
       "      <th>Name</th>\n",
       "      <th>Transported</th>\n",
       "      <th>Deck</th>\n",
       "      <th>CabinIndex</th>\n",
       "      <th>Side</th>\n",
       "      <th>GroupSize</th>\n",
       "    </tr>\n",
       "  </thead>\n",
       "  <tbody>\n",
       "    <tr>\n",
       "      <th>0</th>\n",
       "      <td>0001_01</td>\n",
       "      <td>Europa</td>\n",
       "      <td>False</td>\n",
       "      <td>B/0/P</td>\n",
       "      <td>TRAPPIST-1e</td>\n",
       "      <td>39.0</td>\n",
       "      <td>False</td>\n",
       "      <td>0.000000</td>\n",
       "      <td>0.000000</td>\n",
       "      <td>0.000000</td>\n",
       "      <td>0.000000</td>\n",
       "      <td>0.000000</td>\n",
       "      <td>Maham Ofracculy</td>\n",
       "      <td>False</td>\n",
       "      <td>B</td>\n",
       "      <td>0</td>\n",
       "      <td>P</td>\n",
       "      <td>1</td>\n",
       "    </tr>\n",
       "    <tr>\n",
       "      <th>1</th>\n",
       "      <td>0002_01</td>\n",
       "      <td>Earth</td>\n",
       "      <td>False</td>\n",
       "      <td>F/0/S</td>\n",
       "      <td>TRAPPIST-1e</td>\n",
       "      <td>24.0</td>\n",
       "      <td>False</td>\n",
       "      <td>4.700480</td>\n",
       "      <td>2.302585</td>\n",
       "      <td>3.258097</td>\n",
       "      <td>6.309918</td>\n",
       "      <td>3.806662</td>\n",
       "      <td>Juanna Vines</td>\n",
       "      <td>True</td>\n",
       "      <td>F</td>\n",
       "      <td>0</td>\n",
       "      <td>S</td>\n",
       "      <td>1</td>\n",
       "    </tr>\n",
       "    <tr>\n",
       "      <th>2</th>\n",
       "      <td>0003_01</td>\n",
       "      <td>Europa</td>\n",
       "      <td>False</td>\n",
       "      <td>A/0/S</td>\n",
       "      <td>TRAPPIST-1e</td>\n",
       "      <td>58.0</td>\n",
       "      <td>True</td>\n",
       "      <td>3.784190</td>\n",
       "      <td>8.182280</td>\n",
       "      <td>0.000000</td>\n",
       "      <td>8.812248</td>\n",
       "      <td>3.912023</td>\n",
       "      <td>Altark Susent</td>\n",
       "      <td>False</td>\n",
       "      <td>A</td>\n",
       "      <td>0</td>\n",
       "      <td>S</td>\n",
       "      <td>2</td>\n",
       "    </tr>\n",
       "    <tr>\n",
       "      <th>3</th>\n",
       "      <td>0003_02</td>\n",
       "      <td>Europa</td>\n",
       "      <td>False</td>\n",
       "      <td>A/0/S</td>\n",
       "      <td>TRAPPIST-1e</td>\n",
       "      <td>33.0</td>\n",
       "      <td>False</td>\n",
       "      <td>0.000000</td>\n",
       "      <td>7.157735</td>\n",
       "      <td>5.918894</td>\n",
       "      <td>8.110728</td>\n",
       "      <td>5.267858</td>\n",
       "      <td>Solam Susent</td>\n",
       "      <td>False</td>\n",
       "      <td>A</td>\n",
       "      <td>0</td>\n",
       "      <td>S</td>\n",
       "      <td>2</td>\n",
       "    </tr>\n",
       "    <tr>\n",
       "      <th>4</th>\n",
       "      <td>0004_01</td>\n",
       "      <td>Earth</td>\n",
       "      <td>False</td>\n",
       "      <td>F/1/S</td>\n",
       "      <td>TRAPPIST-1e</td>\n",
       "      <td>16.0</td>\n",
       "      <td>False</td>\n",
       "      <td>5.717028</td>\n",
       "      <td>4.262680</td>\n",
       "      <td>5.023881</td>\n",
       "      <td>6.338594</td>\n",
       "      <td>1.098612</td>\n",
       "      <td>Willy Santantines</td>\n",
       "      <td>True</td>\n",
       "      <td>F</td>\n",
       "      <td>1</td>\n",
       "      <td>S</td>\n",
       "      <td>1</td>\n",
       "    </tr>\n",
       "    <tr>\n",
       "      <th>...</th>\n",
       "      <td>...</td>\n",
       "      <td>...</td>\n",
       "      <td>...</td>\n",
       "      <td>...</td>\n",
       "      <td>...</td>\n",
       "      <td>...</td>\n",
       "      <td>...</td>\n",
       "      <td>...</td>\n",
       "      <td>...</td>\n",
       "      <td>...</td>\n",
       "      <td>...</td>\n",
       "      <td>...</td>\n",
       "      <td>...</td>\n",
       "      <td>...</td>\n",
       "      <td>...</td>\n",
       "      <td>...</td>\n",
       "      <td>...</td>\n",
       "      <td>...</td>\n",
       "    </tr>\n",
       "    <tr>\n",
       "      <th>8688</th>\n",
       "      <td>9276_01</td>\n",
       "      <td>Europa</td>\n",
       "      <td>False</td>\n",
       "      <td>A/98/P</td>\n",
       "      <td>55 Cancri e</td>\n",
       "      <td>41.0</td>\n",
       "      <td>True</td>\n",
       "      <td>0.000000</td>\n",
       "      <td>8.827615</td>\n",
       "      <td>0.000000</td>\n",
       "      <td>7.404888</td>\n",
       "      <td>4.317488</td>\n",
       "      <td>Gravior Noxnuther</td>\n",
       "      <td>False</td>\n",
       "      <td>A</td>\n",
       "      <td>98</td>\n",
       "      <td>P</td>\n",
       "      <td>1</td>\n",
       "    </tr>\n",
       "    <tr>\n",
       "      <th>8689</th>\n",
       "      <td>9278_01</td>\n",
       "      <td>Earth</td>\n",
       "      <td>True</td>\n",
       "      <td>G/1499/S</td>\n",
       "      <td>PSO J318.5-22</td>\n",
       "      <td>18.0</td>\n",
       "      <td>False</td>\n",
       "      <td>0.000000</td>\n",
       "      <td>0.000000</td>\n",
       "      <td>0.000000</td>\n",
       "      <td>0.000000</td>\n",
       "      <td>0.000000</td>\n",
       "      <td>Kurta Mondalley</td>\n",
       "      <td>False</td>\n",
       "      <td>G</td>\n",
       "      <td>1499</td>\n",
       "      <td>S</td>\n",
       "      <td>1</td>\n",
       "    </tr>\n",
       "    <tr>\n",
       "      <th>8690</th>\n",
       "      <td>9279_01</td>\n",
       "      <td>Earth</td>\n",
       "      <td>False</td>\n",
       "      <td>G/1500/S</td>\n",
       "      <td>TRAPPIST-1e</td>\n",
       "      <td>26.0</td>\n",
       "      <td>False</td>\n",
       "      <td>0.000000</td>\n",
       "      <td>0.000000</td>\n",
       "      <td>7.535297</td>\n",
       "      <td>0.693147</td>\n",
       "      <td>0.000000</td>\n",
       "      <td>Fayey Connon</td>\n",
       "      <td>True</td>\n",
       "      <td>G</td>\n",
       "      <td>1500</td>\n",
       "      <td>S</td>\n",
       "      <td>1</td>\n",
       "    </tr>\n",
       "    <tr>\n",
       "      <th>8691</th>\n",
       "      <td>9280_01</td>\n",
       "      <td>Europa</td>\n",
       "      <td>False</td>\n",
       "      <td>E/608/S</td>\n",
       "      <td>55 Cancri e</td>\n",
       "      <td>32.0</td>\n",
       "      <td>False</td>\n",
       "      <td>0.000000</td>\n",
       "      <td>6.956545</td>\n",
       "      <td>0.000000</td>\n",
       "      <td>5.869297</td>\n",
       "      <td>8.082093</td>\n",
       "      <td>Celeon Hontichre</td>\n",
       "      <td>False</td>\n",
       "      <td>E</td>\n",
       "      <td>608</td>\n",
       "      <td>S</td>\n",
       "      <td>2</td>\n",
       "    </tr>\n",
       "    <tr>\n",
       "      <th>8692</th>\n",
       "      <td>9280_02</td>\n",
       "      <td>Europa</td>\n",
       "      <td>False</td>\n",
       "      <td>E/608/S</td>\n",
       "      <td>TRAPPIST-1e</td>\n",
       "      <td>44.0</td>\n",
       "      <td>False</td>\n",
       "      <td>4.844187</td>\n",
       "      <td>8.452975</td>\n",
       "      <td>0.000000</td>\n",
       "      <td>0.000000</td>\n",
       "      <td>2.564949</td>\n",
       "      <td>Propsh Hontichre</td>\n",
       "      <td>True</td>\n",
       "      <td>E</td>\n",
       "      <td>608</td>\n",
       "      <td>S</td>\n",
       "      <td>2</td>\n",
       "    </tr>\n",
       "  </tbody>\n",
       "</table>\n",
       "<p>8693 rows × 18 columns</p>\n",
       "</div>"
      ],
      "text/plain": [
       "     PassengerId HomePlanet  CryoSleep     Cabin    Destination   Age    VIP  \\\n",
       "0        0001_01     Europa      False     B/0/P    TRAPPIST-1e  39.0  False   \n",
       "1        0002_01      Earth      False     F/0/S    TRAPPIST-1e  24.0  False   \n",
       "2        0003_01     Europa      False     A/0/S    TRAPPIST-1e  58.0   True   \n",
       "3        0003_02     Europa      False     A/0/S    TRAPPIST-1e  33.0  False   \n",
       "4        0004_01      Earth      False     F/1/S    TRAPPIST-1e  16.0  False   \n",
       "...          ...        ...        ...       ...            ...   ...    ...   \n",
       "8688     9276_01     Europa      False    A/98/P    55 Cancri e  41.0   True   \n",
       "8689     9278_01      Earth       True  G/1499/S  PSO J318.5-22  18.0  False   \n",
       "8690     9279_01      Earth      False  G/1500/S    TRAPPIST-1e  26.0  False   \n",
       "8691     9280_01     Europa      False   E/608/S    55 Cancri e  32.0  False   \n",
       "8692     9280_02     Europa      False   E/608/S    TRAPPIST-1e  44.0  False   \n",
       "\n",
       "      RoomService  FoodCourt  ShoppingMall       Spa    VRDeck  \\\n",
       "0        0.000000   0.000000      0.000000  0.000000  0.000000   \n",
       "1        4.700480   2.302585      3.258097  6.309918  3.806662   \n",
       "2        3.784190   8.182280      0.000000  8.812248  3.912023   \n",
       "3        0.000000   7.157735      5.918894  8.110728  5.267858   \n",
       "4        5.717028   4.262680      5.023881  6.338594  1.098612   \n",
       "...           ...        ...           ...       ...       ...   \n",
       "8688     0.000000   8.827615      0.000000  7.404888  4.317488   \n",
       "8689     0.000000   0.000000      0.000000  0.000000  0.000000   \n",
       "8690     0.000000   0.000000      7.535297  0.693147  0.000000   \n",
       "8691     0.000000   6.956545      0.000000  5.869297  8.082093   \n",
       "8692     4.844187   8.452975      0.000000  0.000000  2.564949   \n",
       "\n",
       "                   Name  Transported Deck  CabinIndex Side  GroupSize  \n",
       "0       Maham Ofracculy        False    B           0    P          1  \n",
       "1          Juanna Vines         True    F           0    S          1  \n",
       "2         Altark Susent        False    A           0    S          2  \n",
       "3          Solam Susent        False    A           0    S          2  \n",
       "4     Willy Santantines         True    F           1    S          1  \n",
       "...                 ...          ...  ...         ...  ...        ...  \n",
       "8688  Gravior Noxnuther        False    A          98    P          1  \n",
       "8689    Kurta Mondalley        False    G        1499    S          1  \n",
       "8690       Fayey Connon         True    G        1500    S          1  \n",
       "8691   Celeon Hontichre        False    E         608    S          2  \n",
       "8692   Propsh Hontichre         True    E         608    S          2  \n",
       "\n",
       "[8693 rows x 18 columns]"
      ]
     },
     "execution_count": 15,
     "metadata": {},
     "output_type": "execute_result"
    }
   ],
   "source": [
    "df"
   ]
  },
  {
   "cell_type": "code",
   "execution_count": 16,
   "id": "ff1d5209-c896-4766-a73a-f8b4bb81d2b2",
   "metadata": {},
   "outputs": [],
   "source": [
    "df2 = pd.get_dummies(df, columns=['HomePlanet', 'Destination', 'Deck', 'Side'], drop_first=True)\n",
    "# print(list(enumerate(df2.columns)))\n",
    "df2.rename(columns={'Destination_55 Cancri e': 'Dest_Cancri',\n",
    "                    'Destination_PSO J318.5-22': 'Dest_PSO',\n",
    "                    'Destination_TRAPPIST-1e': 'Dest_TRAPPIST'}, inplace=True)\n",
    "# df2.iloc[:, 13:]"
   ]
  },
  {
   "cell_type": "code",
   "execution_count": 17,
   "id": "c5608f31-7af9-4b89-8828-aaece28701b0",
   "metadata": {
    "tags": []
   },
   "outputs": [],
   "source": [
    "# df2 = df[['CryoSleep']]\n",
    "# df2['CryoSleep'] = df2['CryoSleep'].astype(dtype='int32')\n",
    "# df2\n",
    "\n",
    "# bool_cols = ['CryoSleep', 'VIP', 'Transported']\n",
    "# for col_name in bool_cols:\n",
    "#     df[col_name] = df[col_name].astype(dtype='int32')\n",
    "    \n",
    "# df"
   ]
  },
  {
   "cell_type": "code",
   "execution_count": 18,
   "id": "4a4cbe1f-6b2c-4266-b7d2-de7c69d725b9",
   "metadata": {
    "tags": []
   },
   "outputs": [
    {
     "data": {
      "image/png": "[encoded data removed]",
      "text/plain": [
       "<Figure size 700x700 with 8 Axes>"
      ]
     },
     "metadata": {},
     "output_type": "display_data"
    }
   ],
   "source": [
    "import matplotlib.pyplot as plt\n",
    "\n",
    "def show_pie_chart_for_column(df, column, ax=None, title=None, with_percent=True):\n",
    "    labels, values = [], []\n",
    "    for label, val in df[column].value_counts().items():\n",
    "        if isinstance(label, (bool, int)):\n",
    "            label = str(label)\n",
    "        if with_percent:\n",
    "            percent = (val / len(df[column])) * 100.0\n",
    "            label += f' ({percent:.2f}%)'\n",
    "        labels.append(label)\n",
    "        values.append(val)\n",
    "\n",
    "    if not ax:\n",
    "        fig, ax = plt.subplots()\n",
    "    if title:\n",
    "        ax.set_title(title)\n",
    "    ax.pie(values, labels=labels)\n",
    "\n",
    "fig, axs = plt.subplots(nrows=4, ncols=2, figsize=(7, 7))\n",
    "fig.tight_layout(pad=1.0)\n",
    "\n",
    "show_pie_chart_for_column(df, 'HomePlanet', ax=axs[0, 0], title='Home planet')\n",
    "show_pie_chart_for_column(df, 'CryoSleep', ax=axs[0, 1], title='Has Cryosleep')\n",
    "show_pie_chart_for_column(df, 'VIP', ax=axs[1, 0], title='Is VIP')\n",
    "show_pie_chart_for_column(df, 'Destination', ax=axs[1, 1], title='Destination planet')\n",
    "show_pie_chart_for_column(df, 'Transported', ax=axs[2, 0], title='Transported')\n",
    "show_pie_chart_for_column(df, 'Deck', ax=axs[2, 1], title='Deck')\n",
    "show_pie_chart_for_column(df, 'Side', ax=axs[3, 0], title='Side')\n",
    "axs[3, 1].axis('off')\n",
    "\n",
    "plt.show()"
   ]
  },
  {
   "cell_type": "code",
   "execution_count": 19,
   "id": "ca369715-629d-4262-88af-c4dc8030317d",
   "metadata": {
    "tags": []
   },
   "outputs": [
    {
     "data": {
      "image/png": "[encoded data removed]",
      "text/plain": [
       "<Figure size 1000x1500 with 6 Axes>"
      ]
     },
     "metadata": {},
     "output_type": "display_data"
    }
   ],
   "source": [
    "import seaborn as sns\n",
    "\n",
    "cols_to_visualise = ['HomePlanet', 'Destination', 'CryoSleep', 'VIP', 'Deck', 'Side']\n",
    "plot_size = 5\n",
    "n_rows = 3\n",
    "n_cols = 2\n",
    "fig, axs = plt.subplots(n_rows, n_cols, figsize=(n_cols * plot_size, n_rows * plot_size))\n",
    "for row_idx in range(n_rows):\n",
    "    for col_idx in range(n_cols):\n",
    "        i = row_idx * n_cols + col_idx\n",
    "        ax = axs[row_idx, col_idx]\n",
    "        col_name = cols_to_visualise[i]\n",
    "        series = df[col_name]\n",
    "        sns.countplot(x=series,\n",
    "                      hue=df['Transported'],\n",
    "                      ax=ax)\n",
    "        ax.set_title(col_name)\n",
    "        ax.legend(title='Transported', loc='upper right')\n",
    "\n",
    "plt.show()"
   ]
  },
  {
   "cell_type": "code",
   "execution_count": 20,
   "id": "2a65909a-318e-470c-9653-fbfbab8749a3",
   "metadata": {
    "tags": []
   },
   "outputs": [
    {
     "data": {
      "image/png": "[encoded data removed]",
      "text/plain": [
       "<Figure size 640x480 with 1 Axes>"
      ]
     },
     "metadata": {},
     "output_type": "display_data"
    }
   ],
   "source": [
    "plt.hist(df['Age'].values, 70, facecolor='g', alpha=0.75)\n",
    "plt.show()"
   ]
  },
  {
   "cell_type": "code",
   "execution_count": 21,
   "id": "ecc7eca9-7c7c-4067-a4ca-b66e96ac31ff",
   "metadata": {
    "tags": []
   },
   "outputs": [
    {
     "name": "stdout",
     "output_type": "stream",
     "text": [
      "col \"RoomService\" max value: 9.569970943740548\n",
      "all values count: 8693\n",
      "non null values count: 2935\n"
     ]
    },
    {
     "data": {
      "image/png": "[encoded data removed]",
      "text/plain": [
       "<Figure size 1200x300 with 3 Axes>"
      ]
     },
     "metadata": {},
     "output_type": "display_data"
    }
   ],
   "source": [
    "def show_hist_diagram(df, col_name, title=None, border=None):\n",
    "    fig, axs = plt.subplots(nrows=1, ncols=3 if border else 2, figsize=(12, 3))\n",
    "    # fig.tight_layout(pad=2.0)\n",
    "    \n",
    "    all_values = df[col_name].values\n",
    "    non_null_values = df[col_name].loc[lambda x : x != 0.0].values\n",
    "\n",
    "    axs[0].hist(all_values, 100, facecolor='g', alpha=0.75)\n",
    "    axs[0].set_title('all values')\n",
    "    axs[1].hist(non_null_values, 100, facecolor='g', alpha=0.75)\n",
    "    axs[1].set_title('values != 0.0')\n",
    "    if border:\n",
    "        # TODO: fix exception if x != 0.0 is specified \n",
    "        axs[2].hist(df[col_name].where(lambda x: (x <= border)).values, 100, facecolor='g', alpha=0.75)\n",
    "        axs[2].set_title(f'from 0.0 to {border} and not 0.0')\n",
    "    \n",
    "    if title is None:\n",
    "        title = col_name\n",
    "    fig.suptitle(title)\n",
    "    \n",
    "    print(f'col \"{col_name}\" max value: {max(df[col_name])}')\n",
    "    print(f'all values count: {len(all_values)}')\n",
    "    print(f'non null values count: {len(non_null_values)}')\n",
    "\n",
    "show_hist_diagram(df, 'RoomService', border=4000.0)\n",
    "plt.show()"
   ]
  },
  {
   "cell_type": "code",
   "execution_count": 22,
   "id": "a7a68fc4-5712-44a7-8c5c-cfd3cb62454d",
   "metadata": {
    "tags": []
   },
   "outputs": [
    {
     "name": "stdout",
     "output_type": "stream",
     "text": [
      "col \"FoodCourt\" max value: 10.302733360830375\n",
      "all values count: 8693\n",
      "non null values count: 3054\n"
     ]
    },
    {
     "data": {
      "image/png": "[encoded data removed]",
      "text/plain": [
       "<Figure size 1200x300 with 2 Axes>"
      ]
     },
     "metadata": {},
     "output_type": "display_data"
    }
   ],
   "source": [
    "show_hist_diagram(df, 'FoodCourt')\n",
    "plt.show()"
   ]
  },
  {
   "cell_type": "code",
   "execution_count": 23,
   "id": "6a9a94ca-4be4-4f15-bc48-20c867b924ea",
   "metadata": {
    "tags": []
   },
   "outputs": [
    {
     "name": "stdout",
     "output_type": "stream",
     "text": [
      "col \"ShoppingMall\" max value: 10.064457783419048\n",
      "all values count: 8693\n",
      "non null values count: 2898\n"
     ]
    },
    {
     "data": {
      "image/png": "[encoded data removed]",
      "text/plain": [
       "<Figure size 1200x300 with 2 Axes>"
      ]
     },
     "metadata": {},
     "output_type": "display_data"
    }
   ],
   "source": [
    "show_hist_diagram(df, 'ShoppingMall')\n",
    "plt.show()"
   ]
  },
  {
   "cell_type": "code",
   "execution_count": 24,
   "id": "60d38082-a057-4fac-a7ba-84207dc1f230",
   "metadata": {
    "tags": []
   },
   "outputs": [
    {
     "name": "stdout",
     "output_type": "stream",
     "text": [
      "col \"Spa\" max value: 10.01721794286315\n",
      "all values count: 8693\n",
      "non null values count: 3186\n"
     ]
    },
    {
     "data": {
      "image/png": "[encoded data removed]",
      "text/plain": [
       "<Figure size 1200x300 with 2 Axes>"
      ]
     },
     "metadata": {},
     "output_type": "display_data"
    }
   ],
   "source": [
    "show_hist_diagram(df, 'Spa')\n",
    "plt.show()"
   ]
  },
  {
   "cell_type": "code",
   "execution_count": 25,
   "id": "d3089132-f744-4239-aa93-f9277fb69687",
   "metadata": {
    "tags": []
   },
   "outputs": [
    {
     "name": "stdout",
     "output_type": "stream",
     "text": [
      "col \"VRDeck\" max value: 10.091376913633546\n",
      "all values count: 8693\n",
      "non null values count: 3010\n"
     ]
    },
    {
     "data": {
      "image/png": "[encoded data removed]",
      "text/plain": [
       "<Figure size 1200x300 with 2 Axes>"
      ]
     },
     "metadata": {},
     "output_type": "display_data"
    }
   ],
   "source": [
    "show_hist_diagram(df, 'VRDeck')\n",
    "plt.show()"
   ]
  },
  {
   "cell_type": "code",
   "execution_count": 26,
   "id": "56225122-a27a-4a3a-b598-4f93dc856853",
   "metadata": {
    "tags": []
   },
   "outputs": [
    {
     "name": "stdout",
     "output_type": "stream",
     "text": [
      "1       4.700480\n",
      "2       3.784190\n",
      "4       5.717028\n",
      "6       3.761200\n",
      "11      3.688879\n",
      "          ...   \n",
      "8675    6.938284\n",
      "8682    5.484797\n",
      "8683    4.465908\n",
      "8686    0.693147\n",
      "8692    4.844187\n",
      "Name: RoomService, Length: 2935, dtype: float64\n",
      "0       0.0\n",
      "3       0.0\n",
      "5       0.0\n",
      "7       0.0\n",
      "8       0.0\n",
      "       ... \n",
      "8687    0.0\n",
      "8688    0.0\n",
      "8689    0.0\n",
      "8690    0.0\n",
      "8691    0.0\n",
      "Name: RoomService, Length: 5758, dtype: float64\n",
      "8693\n"
     ]
    }
   ],
   "source": [
    "print(df['RoomService'].loc[lambda x: x != 0.0])\n",
    "print(df['RoomService'].loc[lambda x: x == 0.0])\n",
    "print(len(df['RoomService'].loc[lambda x: x <= 4000.0]))"
   ]
  },
  {
   "cell_type": "code",
   "execution_count": 27,
   "id": "633b1da9-2e2b-4850-bf81-f23909ca21cc",
   "metadata": {
    "tags": []
   },
   "outputs": [
    {
     "data": {
      "text/plain": [
       "9.569970943740548"
      ]
     },
     "execution_count": 27,
     "metadata": {},
     "output_type": "execute_result"
    }
   ],
   "source": [
    "max(df['RoomService'])"
   ]
  },
  {
   "cell_type": "code",
   "execution_count": 28,
   "id": "15dd0982-ec4a-406a-8fc6-4969c5afc20c",
   "metadata": {
    "tags": []
   },
   "outputs": [
    {
     "name": "stdout",
     "output_type": "stream",
     "text": [
      "[]\n",
      "initial: 0.0 / std: [-0.64003376]\n",
      "initial: 1000.0 / std: [363.43958904]\n",
      "initial: 2000.0 / std: [727.51921185]\n",
      "initial: 3000.0 / std: [1091.59883466]\n",
      "initial: 4000.0 / std: [1455.67845747]\n",
      "initial: 5000.0 / std: [1819.75808028]\n",
      "initial: 6000.0 / std: [2183.83770309]\n",
      "initial: 7000.0 / std: [2547.9173259]\n",
      "initial: 8000.0 / std: [2911.99694871]\n",
      "initial: 9000.0 / std: [3276.07657151]\n",
      "initial: 10000.0 / std: [3640.15619432]\n",
      "initial: 11000.0 / std: [4004.23581713]\n",
      "initial: 12000.0 / std: [4368.31543994]\n",
      "initial: 13000.0 / std: [4732.39506275]\n",
      "initial: 14000.0 / std: [5096.47468556]\n",
      "initial: 15000.0 / std: [5460.55430837]\n",
      "initial: 16000.0 / std: [5824.63393118]\n",
      "initial: 17000.0 / std: [6188.71355399]\n",
      "initial: 18000.0 / std: [6552.79317679]\n",
      "initial: 19000.0 / std: [6916.8727996]\n",
      "initial: 20000.0 / std: [7280.95242241]\n",
      "[2.74665193] [1.75794998] [7.54409684]\n",
      "1.7579499766576159\n",
      "7.544096844768722\n",
      "2.7466519336764756\n"
     ]
    }
   ],
   "source": [
    "from sklearn.preprocessing import StandardScaler\n",
    "vrdeck = df['VRDeck'].values \n",
    "print(np.argwhere((vrdeck > 3000) & (vrdeck < 4000)).flatten())\n",
    "\n",
    "idxes = [0, 1, 4311, 5619]\n",
    "idxes.extend(list(np.argwhere((vrdeck > 3000) & (vrdeck < 4000)).flatten()))\n",
    "idxes.extend(list(np.argwhere(vrdeck > 10000).flatten()))\n",
    "\n",
    "std_scaler = StandardScaler()\n",
    "vrdeck_std = std_scaler.fit_transform(vrdeck.reshape(-1, 1))\n",
    "\n",
    "# for idx in idxes:\n",
    "#     print(f'initial: {vrdeck[idx]} / std: {vrdeck_std[idx]}')\n",
    "\n",
    "example_data = np.linspace(0, 20000, 21)\n",
    "example_data_std = std_scaler.transform(example_data.reshape(-1, 1))\n",
    "\n",
    "for i in range(len(example_data)):\n",
    "    print(f'initial: {example_data[i]} / std: {example_data_std[i]}')\n",
    "\n",
    "print(std_scaler.scale_, std_scaler.mean_, std_scaler.var_)\n",
    "print(np.mean(vrdeck))\n",
    "print(np.var(vrdeck))\n",
    "print(np.sqrt(np.var(vrdeck)))"
   ]
  },
  {
   "cell_type": "code",
   "execution_count": 29,
   "id": "266c4bb9-f83e-452a-bcc3-4878c69d9d07",
   "metadata": {
    "tags": []
   },
   "outputs": [
    {
     "name": "stdout",
     "output_type": "stream",
     "text": [
      "0.0\n",
      "0.0\n",
      "0.0\n",
      "3.713572066704308\n",
      "initial: 0.0 / std: [0.]\n",
      "initial: 1000.0 / std: [269.28250806]\n",
      "initial: 2000.0 / std: [538.56501613]\n",
      "initial: 3000.0 / std: [807.84752419]\n",
      "initial: 4000.0 / std: [1077.13003226]\n",
      "initial: 5000.0 / std: [1346.41254032]\n",
      "initial: 6000.0 / std: [1615.69504839]\n",
      "initial: 7000.0 / std: [1884.97755645]\n",
      "initial: 8000.0 / std: [2154.26006452]\n",
      "initial: 9000.0 / std: [2423.54257258]\n",
      "initial: 10000.0 / std: [2692.82508064]\n",
      "initial: 11000.0 / std: [2962.10758871]\n",
      "initial: 12000.0 / std: [3231.39009677]\n",
      "initial: 13000.0 / std: [3500.67260484]\n",
      "initial: 14000.0 / std: [3769.9551129]\n",
      "initial: 15000.0 / std: [4039.23762097]\n",
      "initial: 16000.0 / std: [4308.52012903]\n",
      "initial: 17000.0 / std: [4577.80263709]\n",
      "initial: 18000.0 / std: [4847.08514516]\n",
      "initial: 19000.0 / std: [5116.36765322]\n",
      "initial: 20000.0 / std: [5385.65016129]\n"
     ]
    }
   ],
   "source": [
    "from sklearn.preprocessing import RobustScaler\n",
    "\n",
    "vrdeck = df['VRDeck'].values\n",
    "print(np.median(vrdeck))\n",
    "print(np.quantile(vrdeck, 0.25))\n",
    "print(np.quantile(vrdeck, 0.5))\n",
    "print(np.quantile(vrdeck, 0.75))\n",
    "\n",
    "idxes = [0, 1, 4311, 5619]\n",
    "idxes.extend(list(np.argwhere((vrdeck > 3000) & (vrdeck < 4000)).flatten()))\n",
    "idxes.extend(list(np.argwhere(vrdeck > 10000).flatten()))\n",
    "\n",
    "robust_scaler = RobustScaler()\n",
    "vrdeck_robust = robust_scaler.fit_transform(vrdeck.reshape(-1, 1))\n",
    "\n",
    "example_data = np.linspace(0, 20000, 21)\n",
    "example_data_robust = robust_scaler.transform(example_data.reshape(-1, 1))\n",
    "\n",
    "for i in range(len(example_data)):\n",
    "    print(f'initial: {example_data[i]} / std: {example_data_robust[i]}')\n",
    "    \n",
    "vrdeck_q1 = np.quantile(vrdeck, 0.25)\n",
    "vrdeck_q3 = np.quantile(vrdeck, 0.75)\n",
    "vrdeck_median = np.median(vrdeck)\n",
    "\n",
    "# Same values as before\n",
    "# example_data_robust = (example_data - vrdeck_median) / (vrdeck_q3 - vrdeck_q1)\n",
    "# for i in range(len(example_data)):\n",
    "#     print(f'initial: {example_data[i]} / std: {example_data_robust[i]}')"
   ]
  },
  {
   "cell_type": "code",
   "execution_count": 30,
   "id": "0e0cb2cc-13a8-405a-ab71-6a17469da7ca",
   "metadata": {
    "tags": []
   },
   "outputs": [
    {
     "data": {
      "text/plain": [
       "3.713572066704308"
      ]
     },
     "execution_count": 30,
     "metadata": {},
     "output_type": "execute_result"
    }
   ],
   "source": [
    "iqr = vrdeck_q3 - vrdeck_q1\n",
    "iqr"
   ]
  },
  {
   "cell_type": "code",
   "execution_count": 31,
   "id": "bdae5697-20e9-4329-ad27-d04aff35ea55",
   "metadata": {
    "tags": []
   },
   "outputs": [
    {
     "name": "stdout",
     "output_type": "stream",
     "text": [
      "ShoppingMall 72\n",
      "RoomService 1\n",
      "FoodCourt 0\n",
      "Spa 1\n",
      "VRDeck 23\n"
     ]
    }
   ],
   "source": [
    "cols = ['ShoppingMall', 'RoomService', 'FoodCourt', 'Spa', 'VRDeck']\n",
    "for col in cols:\n",
    "    ser = df[col].values\n",
    "    q1 = np.quantile(ser, 0.25)\n",
    "    q3 = np.quantile(ser, 0.75)\n",
    "    iqr = q3 - q1\n",
    "    up_limit = q3 + 1.5 * iqr\n",
    "    outliner_count = len(df[col].loc[lambda v: v > up_limit].values)\n",
    "    print(f'{col} {outliner_count}')"
   ]
  },
  {
   "cell_type": "code",
   "execution_count": 32,
   "id": "a7511dbd-46b1-420b-be2e-0731f8d1b639",
   "metadata": {
    "tags": []
   },
   "outputs": [
    {
     "data": {
      "text/html": [
       "<div>\n",
       "<style scoped>\n",
       "    .dataframe tbody tr th:only-of-type {\n",
       "        vertical-align: middle;\n",
       "    }\n",
       "\n",
       "    .dataframe tbody tr th {\n",
       "        vertical-align: top;\n",
       "    }\n",
       "\n",
       "    .dataframe thead th {\n",
       "        text-align: right;\n",
       "    }\n",
       "</style>\n",
       "<table border=\"1\" class=\"dataframe\">\n",
       "  <thead>\n",
       "    <tr style=\"text-align: right;\">\n",
       "      <th></th>\n",
       "      <th>SM_Count</th>\n",
       "      <th>SM_T</th>\n",
       "      <th>RS_Count</th>\n",
       "      <th>RS_T</th>\n",
       "      <th>FC_Count</th>\n",
       "      <th>FC_T</th>\n",
       "      <th>Spa_Count</th>\n",
       "      <th>Spa_T</th>\n",
       "      <th>VR_Count</th>\n",
       "      <th>VR_T</th>\n",
       "    </tr>\n",
       "  </thead>\n",
       "  <tbody>\n",
       "    <tr>\n",
       "      <th>(-0.01, 2.0]</th>\n",
       "      <td>6204</td>\n",
       "      <td>0.574146</td>\n",
       "      <td>6114</td>\n",
       "      <td>0.611711</td>\n",
       "      <td>6000</td>\n",
       "      <td>0.566667</td>\n",
       "      <td>5943</td>\n",
       "      <td>0.618543</td>\n",
       "      <td>6078</td>\n",
       "      <td>0.608259</td>\n",
       "    </tr>\n",
       "    <tr>\n",
       "      <th>(2.0, 4.0]</th>\n",
       "      <td>599</td>\n",
       "      <td>0.203673</td>\n",
       "      <td>486</td>\n",
       "      <td>0.376543</td>\n",
       "      <td>485</td>\n",
       "      <td>0.189691</td>\n",
       "      <td>578</td>\n",
       "      <td>0.359862</td>\n",
       "      <td>533</td>\n",
       "      <td>0.365854</td>\n",
       "    </tr>\n",
       "    <tr>\n",
       "      <th>(4.0, 6.0]</th>\n",
       "      <td>765</td>\n",
       "      <td>0.223529</td>\n",
       "      <td>748</td>\n",
       "      <td>0.330214</td>\n",
       "      <td>691</td>\n",
       "      <td>0.260492</td>\n",
       "      <td>864</td>\n",
       "      <td>0.328704</td>\n",
       "      <td>800</td>\n",
       "      <td>0.311250</td>\n",
       "    </tr>\n",
       "    <tr>\n",
       "      <th>(6.0, 8.0]</th>\n",
       "      <td>1081</td>\n",
       "      <td>0.451434</td>\n",
       "      <td>1250</td>\n",
       "      <td>0.161600</td>\n",
       "      <td>1121</td>\n",
       "      <td>0.402319</td>\n",
       "      <td>1079</td>\n",
       "      <td>0.190918</td>\n",
       "      <td>1067</td>\n",
       "      <td>0.214620</td>\n",
       "    </tr>\n",
       "    <tr>\n",
       "      <th>(8.0, 10.0]</th>\n",
       "      <td>43</td>\n",
       "      <td>0.790698</td>\n",
       "      <td>95</td>\n",
       "      <td>0.063158</td>\n",
       "      <td>392</td>\n",
       "      <td>0.640306</td>\n",
       "      <td>228</td>\n",
       "      <td>0.017544</td>\n",
       "      <td>214</td>\n",
       "      <td>0.037383</td>\n",
       "    </tr>\n",
       "    <tr>\n",
       "      <th>(10.0, 12.0]</th>\n",
       "      <td>1</td>\n",
       "      <td>1.000000</td>\n",
       "      <td>0</td>\n",
       "      <td>NaN</td>\n",
       "      <td>4</td>\n",
       "      <td>1.000000</td>\n",
       "      <td>1</td>\n",
       "      <td>0.000000</td>\n",
       "      <td>1</td>\n",
       "      <td>0.000000</td>\n",
       "    </tr>\n",
       "  </tbody>\n",
       "</table>\n",
       "</div>"
      ],
      "text/plain": [
       "              SM_Count      SM_T  RS_Count      RS_T  FC_Count      FC_T  \\\n",
       "(-0.01, 2.0]      6204  0.574146      6114  0.611711      6000  0.566667   \n",
       "(2.0, 4.0]         599  0.203673       486  0.376543       485  0.189691   \n",
       "(4.0, 6.0]         765  0.223529       748  0.330214       691  0.260492   \n",
       "(6.0, 8.0]        1081  0.451434      1250  0.161600      1121  0.402319   \n",
       "(8.0, 10.0]         43  0.790698        95  0.063158       392  0.640306   \n",
       "(10.0, 12.0]         1  1.000000         0       NaN         4  1.000000   \n",
       "\n",
       "              Spa_Count     Spa_T  VR_Count      VR_T  \n",
       "(-0.01, 2.0]       5943  0.618543      6078  0.608259  \n",
       "(2.0, 4.0]          578  0.359862       533  0.365854  \n",
       "(4.0, 6.0]          864  0.328704       800  0.311250  \n",
       "(6.0, 8.0]         1079  0.190918      1067  0.214620  \n",
       "(8.0, 10.0]         228  0.017544       214  0.037383  \n",
       "(10.0, 12.0]          1  0.000000         1  0.000000  "
      ]
     },
     "execution_count": 32,
     "metadata": {},
     "output_type": "execute_result"
    }
   ],
   "source": [
    "pivot_df = pd.DataFrame()\n",
    "cols = [('ShoppingMall', 'SM'), ('RoomService', 'RS'), ('FoodCourt', 'FC'), ('Spa', 'Spa'), ('VRDeck', 'VR')]\n",
    "for col, short_col_name in cols:\n",
    "    s = pd.cut(df[col].values, [-0.01, 2, 4, 6, 8, 10, 12])\n",
    "    table = df.pivot_table('Transported', s)\n",
    "    pivot_df[f'{short_col_name}_Count'] = s.value_counts()\n",
    "    pivot_df[f'{short_col_name}_T'] = table['Transported']\n",
    "\n",
    "pivot_df"
   ]
  },
  {
   "cell_type": "code",
   "execution_count": 40,
   "id": "78c59d3d-cd24-4aa0-8776-e0df7abb4156",
   "metadata": {
    "tags": []
   },
   "outputs": [
    {
     "name": "stderr",
     "output_type": "stream",
     "text": [
      "/tmp/ipykernel_2713/2221891377.py:11: SettingWithCopyWarning: \n",
      "A value is trying to be set on a copy of a slice from a DataFrame.\n",
      "Try using .loc[row_indexer,col_indexer] = value instead\n",
      "\n",
      "See the caveats in the documentation: https://pandas.pydata.org/pandas-docs/stable/user_guide/indexing.html#returning-a-view-versus-a-copy\n",
      "  df2[col] = df2[col].astype(int)\n"
     ]
    },
    {
     "data": {
      "text/plain": [
       "array([[ 0., 39.,  0., ...,  0.,  0.,  0.],\n",
       "       [ 0., 24.,  0., ...,  0.,  0.,  1.],\n",
       "       [ 0., 58.,  1., ...,  0.,  0.,  1.],\n",
       "       ...,\n",
       "       [ 0., 26.,  0., ...,  1.,  0.,  1.],\n",
       "       [ 0., 32.,  0., ...,  0.,  0.,  1.],\n",
       "       [ 0., 44.,  0., ...,  0.,  0.,  1.]])"
      ]
     },
     "execution_count": 40,
     "metadata": {},
     "output_type": "execute_result"
    }
   ],
   "source": [
    "from sklearn.compose import ColumnTransformer\n",
    "from sklearn.preprocessing import OneHotEncoder\n",
    "\n",
    "final_columns = ['CryoSleep', 'Age', 'VIP', 'RoomService', 'GroupSize', 'HomePlanet_Europa', 'HomePlanet_Mars',\n",
    "                 'Dest_PSO', 'Dest_TRAPPIST', 'Deck_B', 'Deck_C', 'Deck_D', 'Deck_E', 'Deck_F', 'Deck_G',\n",
    "                 'Deck_T', 'Side_S']\n",
    "\n",
    "def df_dataset_to_np(df, with_y=True):\n",
    "    df2 = df[['CryoSleep', 'Age', 'VIP', 'RoomService', 'GroupSize']]\n",
    "    for col in ('CryoSleep', 'VIP'):\n",
    "        df2[col] = df2[col].astype(int)\n",
    "\n",
    "    X_cat = df[['HomePlanet', 'Destination', 'Deck', 'Side']].values\n",
    "    one_hot_encoder = OneHotEncoder(categories='auto', drop='first')\n",
    "    col_transformer = ColumnTransformer([\n",
    "        ('HomePlanet_onehot', one_hot_encoder, [0]),\n",
    "        ('Destination_onehot', one_hot_encoder, [1]),\n",
    "        ('Deck_onehot', one_hot_encoder, [2]),\n",
    "        ('Side_onehot', one_hot_encoder, [3]),\n",
    "    ])\n",
    "    X_cat_transformed = col_transformer.fit_transform(X_cat).toarray()\n",
    "    # print(X_cat_transformed.shape)\n",
    "    # X_cat_transformed\n",
    "    # for i in range(4):\n",
    "    #     print(col_transformer.transformers_[i][1].categories_)\n",
    "\n",
    "    X_regular = df2.values\n",
    "    X = np.hstack((X_regular, X_cat_transformed))\n",
    "    # print(X.shape)\n",
    "    if with_y:\n",
    "        y = df['Transported'].astype(int).values\n",
    "        return X, y\n",
    "    else:\n",
    "        return X\n",
    "\n",
    "X, y = df_dataset_to_np(df)\n",
    "X"
   ]
  },
  {
   "cell_type": "code",
   "execution_count": 34,
   "id": "e1511e89-b759-4e4c-b723-57da8c6ef399",
   "metadata": {
    "tags": []
   },
   "outputs": [],
   "source": [
    "from sklearn.model_selection import train_test_split\n",
    "X_train, X_test, y_train, y_test = train_test_split(\n",
    "    X, y, test_size=0.25, random_state=1, stratify=y\n",
    ")"
   ]
  },
  {
   "cell_type": "code",
   "execution_count": 35,
   "id": "85d55bd4-10d9-49bf-b0e9-837bfc80705c",
   "metadata": {
    "tags": []
   },
   "outputs": [
    {
     "name": "stdout",
     "output_type": "stream",
     "text": [
      "Log reg train score: 0.7238840312931432\n",
      "Log reg test score: 0.7332106715731371\n"
     ]
    }
   ],
   "source": [
    "from sklearn.linear_model import LogisticRegression\n",
    "from sklearn.preprocessing import StandardScaler\n",
    "from sklearn.pipeline import make_pipeline\n",
    "\n",
    "log_reg_pipe = make_pipeline(\n",
    "    StandardScaler(),\n",
    "    LogisticRegression(C=10, solver='lbfgs', random_state=1)\n",
    ")\n",
    "log_reg_pipe.fit(X_train, y_train)\n",
    "\n",
    "print('Log reg train score:', log_reg_pipe.score(X_train, y_train))\n",
    "print('Log reg test score:', log_reg_pipe.score(X_test, y_test))"
   ]
  },
  {
   "cell_type": "code",
   "execution_count": 36,
   "id": "bf4ccb2c-96eb-40a2-b1fc-f25edd2d4735",
   "metadata": {
    "tags": []
   },
   "outputs": [
    {
     "name": "stdout",
     "output_type": "stream",
     "text": [
      "best_score: 0.7203591925588759\n",
      "best_params: {'logisticregression__C': 0.1}\n"
     ]
    }
   ],
   "source": [
    "from sklearn.model_selection import GridSearchCV\n",
    "\n",
    "param_range = [0.0001, 0.001, 0.01, 0.1, 1.0, 10.0, 100.0, 1000.0]\n",
    "param_grid = [{'logisticregression__C': param_range}]\n",
    "grid_search = GridSearchCV(\n",
    "    estimator=log_reg_pipe,\n",
    "    param_grid=param_grid,\n",
    "    scoring='accuracy',\n",
    "    cv=10,\n",
    "    refit=True,\n",
    "    n_jobs=-1\n",
    ")\n",
    "\n",
    "grid_search.fit(X_train, y_train)\n",
    "print('best_score:', grid_search.best_score_)\n",
    "print('best_params:', grid_search.best_params_)"
   ]
  },
  {
   "cell_type": "code",
   "execution_count": 37,
   "id": "cccc9621-d113-44b4-a0e0-c3bbfc621151",
   "metadata": {
    "tags": []
   },
   "outputs": [
    {
     "name": "stdout",
     "output_type": "stream",
     "text": [
      "RandomForest train score: 0.9375671115201718\n",
      "RandomForest test score: 0.7014719411223551\n",
      "[1.81217061e-01 3.58742970e-01 5.78309089e-03 2.01594569e-01\n",
      " 7.96608645e-02 1.88290178e-02 2.38635112e-02 1.03604426e-02\n",
      " 2.20749549e-02 8.38150387e-03 8.85427330e-03 6.62428741e-03\n",
      " 1.40033861e-02 1.59338934e-02 1.75892886e-02 2.08001916e-04\n",
      " 2.62788831e-02]\n"
     ]
    },
    {
     "data": {
      "text/plain": [
       "[('Age', 0.3587429704499815),\n",
       " ('RoomService', 0.2015945692044512),\n",
       " ('CryoSleep', 0.18121706071173097),\n",
       " ('GroupSize', 0.07966086449482429),\n",
       " ('Side_S', 0.02627888306371346),\n",
       " ('HomePlanet_Mars', 0.023863511179589885),\n",
       " ('Dest_TRAPPIST', 0.0220749549204146),\n",
       " ('HomePlanet_Europa', 0.018829017823327254),\n",
       " ('Deck_G', 0.01758928863718537),\n",
       " ('Deck_F', 0.01593389335196498),\n",
       " ('Deck_E', 0.014003386147106767),\n",
       " ('Dest_PSO', 0.010360442633452201),\n",
       " ('Deck_C', 0.00885427329643283),\n",
       " ('Deck_B', 0.008381503866714905),\n",
       " ('Deck_D', 0.006624287410552387),\n",
       " ('VIP', 0.005783090892352364),\n",
       " ('Deck_T', 0.00020800191620504987)]"
      ]
     },
     "execution_count": 37,
     "metadata": {},
     "output_type": "execute_result"
    }
   ],
   "source": [
    "from sklearn.ensemble import RandomForestClassifier\n",
    "forest = RandomForestClassifier(n_estimators=500,\n",
    "                                random_state=1)\n",
    "forest.fit(X_train, y_train)\n",
    "\n",
    "print('RandomForest train score:', forest.score(X_train, y_train))\n",
    "print('RandomForest test score:', forest.score(X_test, y_test))\n",
    "\n",
    "importances = forest.feature_importances_\n",
    "print(importances)\n",
    "\n",
    "items = zip(final_columns, importances) \n",
    "sorted(items, key=lambda v: v[1], reverse=True)"
   ]
  },
  {
   "cell_type": "code",
   "execution_count": 49,
   "id": "4d27ff3c-0dd8-45e6-b9d3-585a72fde158",
   "metadata": {
    "tags": []
   },
   "outputs": [
    {
     "name": "stderr",
     "output_type": "stream",
     "text": [
      "/tmp/ipykernel_2713/2221891377.py:11: SettingWithCopyWarning: \n",
      "A value is trying to be set on a copy of a slice from a DataFrame.\n",
      "Try using .loc[row_indexer,col_indexer] = value instead\n",
      "\n",
      "See the caveats in the documentation: https://pandas.pydata.org/pandas-docs/stable/user_guide/indexing.html#returning-a-view-versus-a-copy\n",
      "  df2[col] = df2[col].astype(int)\n"
     ]
    },
    {
     "data": {
      "text/html": [
       "<div>\n",
       "<style scoped>\n",
       "    .dataframe tbody tr th:only-of-type {\n",
       "        vertical-align: middle;\n",
       "    }\n",
       "\n",
       "    .dataframe tbody tr th {\n",
       "        vertical-align: top;\n",
       "    }\n",
       "\n",
       "    .dataframe thead th {\n",
       "        text-align: right;\n",
       "    }\n",
       "</style>\n",
       "<table border=\"1\" class=\"dataframe\">\n",
       "  <thead>\n",
       "    <tr style=\"text-align: right;\">\n",
       "      <th></th>\n",
       "      <th>PassengerId</th>\n",
       "      <th>Transported</th>\n",
       "    </tr>\n",
       "  </thead>\n",
       "  <tbody>\n",
       "    <tr>\n",
       "      <th>0</th>\n",
       "      <td>0013_01</td>\n",
       "      <td>True</td>\n",
       "    </tr>\n",
       "    <tr>\n",
       "      <th>1</th>\n",
       "      <td>0018_01</td>\n",
       "      <td>False</td>\n",
       "    </tr>\n",
       "    <tr>\n",
       "      <th>2</th>\n",
       "      <td>0019_01</td>\n",
       "      <td>True</td>\n",
       "    </tr>\n",
       "    <tr>\n",
       "      <th>3</th>\n",
       "      <td>0021_01</td>\n",
       "      <td>True</td>\n",
       "    </tr>\n",
       "    <tr>\n",
       "      <th>4</th>\n",
       "      <td>0023_01</td>\n",
       "      <td>False</td>\n",
       "    </tr>\n",
       "    <tr>\n",
       "      <th>...</th>\n",
       "      <td>...</td>\n",
       "      <td>...</td>\n",
       "    </tr>\n",
       "    <tr>\n",
       "      <th>4272</th>\n",
       "      <td>9266_02</td>\n",
       "      <td>True</td>\n",
       "    </tr>\n",
       "    <tr>\n",
       "      <th>4273</th>\n",
       "      <td>9269_01</td>\n",
       "      <td>False</td>\n",
       "    </tr>\n",
       "    <tr>\n",
       "      <th>4274</th>\n",
       "      <td>9271_01</td>\n",
       "      <td>True</td>\n",
       "    </tr>\n",
       "    <tr>\n",
       "      <th>4275</th>\n",
       "      <td>9273_01</td>\n",
       "      <td>False</td>\n",
       "    </tr>\n",
       "    <tr>\n",
       "      <th>4276</th>\n",
       "      <td>9277_01</td>\n",
       "      <td>True</td>\n",
       "    </tr>\n",
       "  </tbody>\n",
       "</table>\n",
       "<p>4277 rows × 2 columns</p>\n",
       "</div>"
      ],
      "text/plain": [
       "     PassengerId  Transported\n",
       "0        0013_01         True\n",
       "1        0018_01        False\n",
       "2        0019_01         True\n",
       "3        0021_01         True\n",
       "4        0023_01        False\n",
       "...          ...          ...\n",
       "4272     9266_02         True\n",
       "4273     9269_01        False\n",
       "4274     9271_01         True\n",
       "4275     9273_01        False\n",
       "4276     9277_01         True\n",
       "\n",
       "[4277 rows x 2 columns]"
      ]
     },
     "execution_count": 49,
     "metadata": {},
     "output_type": "execute_result"
    }
   ],
   "source": [
    "df_test = pd.read_csv('data/test.csv')\n",
    "# grid_search.predict\n",
    "\n",
    "augument_cabin(df_test)\n",
    "impute_general_cols(df_test)\n",
    "impute_name(df_test)\n",
    "impute_cabin_index(df_test)\n",
    "fill_cabin(df_test)\n",
    "augument_group_size(df_test)\n",
    "transform_price_columns(df_test)\n",
    "\n",
    "X_submit = df_dataset_to_np(df_test, with_y=False)\n",
    "y_submit = grid_search.predict(X_submit)\n",
    "y_submit\n",
    "\n",
    "answer_ser = pd.Series(y_submit, dtype='int32').astype(bool)\n",
    "df_submit = pd.read_csv('data/sample_submission.csv')\n",
    "df_submit['Transported'] = answer_ser\n",
    "df_submit.to_csv('answer.csv', index=False)\n",
    "df_submit"
   ]
  }
 ],
 "metadata": {
  "kernelspec": {
   "display_name": "Python 3 (ipykernel)",
   "language": "python",
   "name": "python3"
  },
  "language_info": {
   "codemirror_mode": {
    "name": "ipython",
    "version": 3
   },
   "file_extension": ".py",
   "mimetype": "text/x-python",
   "name": "python",
   "nbconvert_exporter": "python",
   "pygments_lexer": "ipython3",
   "version": "3.10.9"
  }
 },
 "nbformat": 4,
 "nbformat_minor": 5
}
